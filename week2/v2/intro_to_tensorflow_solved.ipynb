{
  "nbformat": 4,
  "nbformat_minor": 0,
  "metadata": {
    "kernelspec": {
      "display_name": "Python 3",
      "language": "python",
      "name": "python3"
    },
    "language_info": {
      "codemirror_mode": {
        "name": "ipython",
        "version": 3
      },
      "file_extension": ".py",
      "mimetype": "text/x-python",
      "name": "python",
      "nbconvert_exporter": "python",
      "pygments_lexer": "ipython3",
      "version": "3.6.5"
    },
    "colab": {
      "name": "intro_to_tensorflow.ipynb",
      "provenance": [],
      "include_colab_link": true
    }
  },
  "cells": [
    {
      "cell_type": "markdown",
      "metadata": {
        "id": "view-in-github",
        "colab_type": "text"
      },
      "source": [
        "<a href=\"https://colab.research.google.com/github/nsanghi/intro-to-dl/blob/solutions/week2/v2/intro_to_tensorflow_solved.ipynb\" target=\"_parent\"><img src=\"https://colab.research.google.com/assets/colab-badge.svg\" alt=\"Open In Colab\"/></a>"
      ]
    },
    {
      "cell_type": "code",
      "metadata": {
        "id": "ACr-_GryVz6E",
        "colab_type": "code",
        "colab": {}
      },
      "source": [
        "# set tf 1.x for colab\n",
        "%tensorflow_version 1.x"
      ],
      "execution_count": 0,
      "outputs": []
    },
    {
      "cell_type": "markdown",
      "metadata": {
        "id": "1VQIm3bVVz6J",
        "colab_type": "text"
      },
      "source": [
        "# Intro to TensorFlow\n",
        "\n",
        "This notebook covers the basics of TF and shows you an animation with gradient descent trajectory.\n",
        "<img src=\"https://github.com/nsanghi/intro-to-dl/blob/solutions/week2/v2/images/gradient_descent.png?raw=1\" style=\"width:50%\">"
      ]
    },
    {
      "cell_type": "markdown",
      "metadata": {
        "id": "XxPuRzd2Vz6K",
        "colab_type": "text"
      },
      "source": [
        "# TensorBoard"
      ]
    },
    {
      "cell_type": "markdown",
      "metadata": {
        "id": "8VcpArgtVz6K",
        "colab_type": "text"
      },
      "source": [
        "**Plase note that if you are running on the Coursera platform, you won't be able to access the tensorboard instance due to the network setup there.**\n",
        "\n",
        "Run `tensorboard --logdir=./tensorboard_logs --port=7007` in bash.\n",
        "\n",
        "If you run the notebook locally, you should be able to access TensorBoard on http://127.0.0.1:7007/"
      ]
    },
    {
      "cell_type": "code",
      "metadata": {
        "id": "3EF003ZLWXxN",
        "colab_type": "code",
        "outputId": "a3c764bd-0cd1-4c15-cc67-ebb76651fcc3",
        "colab": {
          "base_uri": "https://localhost:8080/",
          "height": 328
        }
      },
      "source": [
        "! shred -u setup_google_colab.py\n",
        "! wget https://raw.githubusercontent.com/hse-aml/intro-to-dl/master/setup_google_colab.py -O setup_google_colab.py\n",
        "import setup_google_colab\n",
        "# please, uncomment the week you're working on\n",
        "# setup_google_colab.setup_week1()\n",
        "setup_google_colab.setup_week2()\n",
        "# setup_google_colab.setup_week2_honor()\n",
        "# setup_google_colab.setup_week3()\n",
        "# setup_google_colab.setup_week4()\n",
        "# setup_google_colab.setup_week5()\n",
        "# setup_google_colab.setup_week6()"
      ],
      "execution_count": 2,
      "outputs": [
        {
          "output_type": "stream",
          "text": [
            "shred: setup_google_colab.py: failed to open for writing: No such file or directory\n",
            "--2020-01-19 10:33:08--  https://raw.githubusercontent.com/hse-aml/intro-to-dl/master/setup_google_colab.py\n",
            "Resolving raw.githubusercontent.com (raw.githubusercontent.com)... 151.101.0.133, 151.101.64.133, 151.101.128.133, ...\n",
            "Connecting to raw.githubusercontent.com (raw.githubusercontent.com)|151.101.0.133|:443... connected.\n",
            "HTTP request sent, awaiting response... 200 OK\n",
            "Length: 3636 (3.6K) [text/plain]\n",
            "Saving to: ‘setup_google_colab.py’\n",
            "\n",
            "setup_google_colab. 100%[===================>]   3.55K  --.-KB/s    in 0s      \n",
            "\n",
            "2020-01-19 10:33:08 (72.4 MB/s) - ‘setup_google_colab.py’ saved [3636/3636]\n",
            "\n",
            "**************************************************\n",
            "inception_v3_weights_tf_dim_ordering_tf_kernels_notop.h5\n",
            "**************************************************\n",
            "cifar-10-batches-py.tar.gz\n",
            "**************************************************\n",
            "mnist.npz\n"
          ],
          "name": "stdout"
        }
      ]
    },
    {
      "cell_type": "code",
      "metadata": {
        "id": "2trCTRM1Vz6L",
        "colab_type": "code",
        "outputId": "7f15401b-256d-473e-f04a-154a8f38440e",
        "colab": {
          "base_uri": "https://localhost:8080/",
          "height": 279
        }
      },
      "source": [
        "import tensorflow as tf\n",
        "import sys\n",
        "sys.path.append(\"../..\")\n",
        "from keras_utils import reset_tf_session\n",
        "s = reset_tf_session()\n",
        "print(\"We're using TF\", tf.__version__)"
      ],
      "execution_count": 3,
      "outputs": [
        {
          "output_type": "stream",
          "text": [
            "Using TensorFlow backend.\n"
          ],
          "name": "stderr"
        },
        {
          "output_type": "stream",
          "text": [
            "WARNING:tensorflow:From /content/keras_utils.py:68: The name tf.get_default_session is deprecated. Please use tf.compat.v1.get_default_session instead.\n",
            "\n",
            "WARNING:tensorflow:From /usr/local/lib/python3.6/dist-packages/keras/backend/tensorflow_backend.py:79: The name tf.reset_default_graph is deprecated. Please use tf.compat.v1.reset_default_graph instead.\n",
            "\n",
            "WARNING:tensorflow:From /usr/local/lib/python3.6/dist-packages/keras/backend/tensorflow_backend.py:82: The name tf.placeholder is deprecated. Please use tf.compat.v1.placeholder instead.\n",
            "\n",
            "WARNING:tensorflow:From /usr/local/lib/python3.6/dist-packages/keras/backend/tensorflow_backend.py:84: The name tf.get_default_graph is deprecated. Please use tf.compat.v1.get_default_graph instead.\n",
            "\n",
            "WARNING:tensorflow:From /content/keras_utils.py:75: The name tf.ConfigProto is deprecated. Please use tf.compat.v1.ConfigProto instead.\n",
            "\n",
            "WARNING:tensorflow:From /content/keras_utils.py:77: The name tf.InteractiveSession is deprecated. Please use tf.compat.v1.InteractiveSession instead.\n",
            "\n",
            "We're using TF 1.15.0\n"
          ],
          "name": "stdout"
        }
      ]
    },
    {
      "cell_type": "markdown",
      "metadata": {
        "id": "UX6765oIVz6N",
        "colab_type": "text"
      },
      "source": [
        "# Warming up\n",
        "For starters, let's implement a python function that computes the sum of squares of numbers from 0 to N-1."
      ]
    },
    {
      "cell_type": "code",
      "metadata": {
        "id": "OnIM_YsYVz6O",
        "colab_type": "code",
        "colab": {}
      },
      "source": [
        "import numpy as np\n",
        "\n",
        "def sum_python(N):\n",
        "    return np.sum(np.arange(N)**2)"
      ],
      "execution_count": 0,
      "outputs": []
    },
    {
      "cell_type": "code",
      "metadata": {
        "id": "C0OXvUoVVz6P",
        "colab_type": "code",
        "colab": {
          "base_uri": "https://localhost:8080/",
          "height": 69
        },
        "outputId": "3d64af38-e5f4-467d-f512-68c08c36f151"
      },
      "source": [
        "%%time\n",
        "sum_python(10**5)"
      ],
      "execution_count": 5,
      "outputs": [
        {
          "output_type": "stream",
          "text": [
            "CPU times: user 0 ns, sys: 3.48 ms, total: 3.48 ms\n",
            "Wall time: 8.19 ms\n"
          ],
          "name": "stdout"
        },
        {
          "output_type": "execute_result",
          "data": {
            "text/plain": [
              "333328333350000"
            ]
          },
          "metadata": {
            "tags": []
          },
          "execution_count": 5
        }
      ]
    },
    {
      "cell_type": "markdown",
      "metadata": {
        "id": "W6KLbei1Vz6R",
        "colab_type": "text"
      },
      "source": [
        "# Tensoflow teaser\n",
        "\n",
        "Doing the very same thing"
      ]
    },
    {
      "cell_type": "code",
      "metadata": {
        "id": "kkNWKEmZVz6S",
        "colab_type": "code",
        "colab": {}
      },
      "source": [
        "# An integer parameter\n",
        "N = tf.placeholder('int64', name=\"input_to_your_function\")\n",
        "\n",
        "# A recipe on how to produce the same result\n",
        "result = tf.reduce_sum(tf.range(N)**2)"
      ],
      "execution_count": 0,
      "outputs": []
    },
    {
      "cell_type": "code",
      "metadata": {
        "id": "Pr_jd-GTVz6U",
        "colab_type": "code",
        "colab": {
          "base_uri": "https://localhost:8080/",
          "height": 35
        },
        "outputId": "9855ef13-648d-4af4-b595-334ae1a1cf0b"
      },
      "source": [
        "# just a graph definition\n",
        "result"
      ],
      "execution_count": 7,
      "outputs": [
        {
          "output_type": "execute_result",
          "data": {
            "text/plain": [
              "<tf.Tensor 'Sum:0' shape=() dtype=int64>"
            ]
          },
          "metadata": {
            "tags": []
          },
          "execution_count": 7
        }
      ]
    },
    {
      "cell_type": "code",
      "metadata": {
        "id": "G2M9veisVz6W",
        "colab_type": "code",
        "colab": {
          "base_uri": "https://localhost:8080/",
          "height": 69
        },
        "outputId": "87ca921a-404e-40b2-83b7-eed83cc51ced"
      },
      "source": [
        "%%time\n",
        "# actually executing\n",
        "result.eval({N: 10**5})"
      ],
      "execution_count": 8,
      "outputs": [
        {
          "output_type": "stream",
          "text": [
            "CPU times: user 7.53 ms, sys: 3.65 ms, total: 11.2 ms\n",
            "Wall time: 66.2 ms\n"
          ],
          "name": "stdout"
        },
        {
          "output_type": "execute_result",
          "data": {
            "text/plain": [
              "333328333350000"
            ]
          },
          "metadata": {
            "tags": []
          },
          "execution_count": 8
        }
      ]
    },
    {
      "cell_type": "code",
      "metadata": {
        "id": "_BYTwUfLVz6X",
        "colab_type": "code",
        "colab": {}
      },
      "source": [
        "# logger for tensorboard\n",
        "writer = tf.summary.FileWriter(\"tensorboard_logs\", graph=s.graph)"
      ],
      "execution_count": 0,
      "outputs": []
    },
    {
      "cell_type": "markdown",
      "metadata": {
        "id": "ZOnrIkSBVz6Z",
        "colab_type": "text"
      },
      "source": [
        "# How does it work?\n",
        "1. Define placeholders where you'll send inputs\n",
        "2. Make a symbolic graph: a recipe for mathematical transformation of those placeholders\n",
        "3. Compute outputs of your graph with particular values for each placeholder\n",
        "  * `output.eval({placeholder: value})`\n",
        "  * `s.run(output, {placeholder: value})`\n",
        "\n",
        "So far there are two main entities: \"placeholder\" and \"transformation\" (operation output)\n",
        "* Both can be numbers, vectors, matrices, tensors, etc.\n",
        "* Both can be int32/64, floats, booleans (uint8) of various size.\n",
        "\n",
        "* You can define new transformations as an arbitrary operation on placeholders and other transformations\n",
        " * `tf.reduce_sum(tf.arange(N)**2)` are 3 sequential transformations of placeholder `N`\n",
        " * There's a tensorflow symbolic version for every numpy function\n",
        "   * `a+b, a/b, a**b, ...` behave just like in numpy\n",
        "   * `np.mean` -> `tf.reduce_mean`\n",
        "   * `np.arange` -> `tf.range`\n",
        "   * `np.cumsum` -> `tf.cumsum`\n",
        "   * If you can't find the operation you need, see the [docs](https://www.tensorflow.org/versions/r1.3/api_docs/python).\n",
        "   \n",
        "`tf.contrib` has many high-level features, may be worth a look."
      ]
    },
    {
      "cell_type": "code",
      "metadata": {
        "id": "IyDn4xfBVz6a",
        "colab_type": "code",
        "colab": {}
      },
      "source": [
        "with tf.name_scope(\"Placeholders_examples\"):\n",
        "    # Default placeholder that can be arbitrary float32\n",
        "    # scalar, vertor, matrix, etc.\n",
        "    arbitrary_input = tf.placeholder('float32')\n",
        "\n",
        "    # Input vector of arbitrary length\n",
        "    input_vector = tf.placeholder('float32', shape=(None,))\n",
        "\n",
        "    # Input vector that _must_ have 10 elements and integer type\n",
        "    fixed_vector = tf.placeholder('int32', shape=(10,))\n",
        "\n",
        "    # Matrix of arbitrary n_rows and 15 columns\n",
        "    # (e.g. a minibatch of your data table)\n",
        "    input_matrix = tf.placeholder('float32', shape=(None, 15))\n",
        "    \n",
        "    # You can generally use None whenever you don't need a specific shape\n",
        "    input1 = tf.placeholder('float64', shape=(None, 100, None))\n",
        "    input2 = tf.placeholder('int32', shape=(None, None, 3, 224, 224))\n",
        "\n",
        "    # elementwise multiplication\n",
        "    double_the_vector = input_vector*2\n",
        "\n",
        "    # elementwise cosine\n",
        "    elementwise_cosine = tf.cos(input_vector)\n",
        "\n",
        "    # difference between squared vector and vector itself plus one\n",
        "    vector_squares = input_vector**2 - input_vector + 1"
      ],
      "execution_count": 0,
      "outputs": []
    },
    {
      "cell_type": "code",
      "metadata": {
        "id": "yc_0Xk0-Vz6f",
        "colab_type": "code",
        "colab": {}
      },
      "source": [
        "my_vector =  tf.placeholder('float32', shape=(None,), name=\"VECTOR_1\")\n",
        "my_vector2 = tf.placeholder('float32', shape=(None,))\n",
        "my_transformation = my_vector * my_vector2 / (tf.sin(my_vector) + 1)"
      ],
      "execution_count": 0,
      "outputs": []
    },
    {
      "cell_type": "code",
      "metadata": {
        "id": "VwdcBD-qVz6m",
        "colab_type": "code",
        "colab": {
          "base_uri": "https://localhost:8080/",
          "height": 35
        },
        "outputId": "b29f9f79-29c1-49cf-b095-2a405ad9d382"
      },
      "source": [
        "print(my_transformation)"
      ],
      "execution_count": 12,
      "outputs": [
        {
          "output_type": "stream",
          "text": [
            "Tensor(\"truediv:0\", shape=(?,), dtype=float32)\n"
          ],
          "name": "stdout"
        }
      ]
    },
    {
      "cell_type": "code",
      "metadata": {
        "id": "QgL-U90AVz6o",
        "colab_type": "code",
        "colab": {
          "base_uri": "https://localhost:8080/",
          "height": 69
        },
        "outputId": "bc3bc4ba-f67f-4946-84c3-727e2bca49fa"
      },
      "source": [
        "dummy = np.arange(5).astype('float32')\n",
        "print(dummy)\n",
        "my_transformation.eval({my_vector: dummy, my_vector2: dummy[::-1]})"
      ],
      "execution_count": 13,
      "outputs": [
        {
          "output_type": "stream",
          "text": [
            "[0. 1. 2. 3. 4.]\n"
          ],
          "name": "stdout"
        },
        {
          "output_type": "execute_result",
          "data": {
            "text/plain": [
              "array([0.       , 1.6291324, 2.0950115, 2.6289961, 0.       ],\n",
              "      dtype=float32)"
            ]
          },
          "metadata": {
            "tags": []
          },
          "execution_count": 13
        }
      ]
    },
    {
      "cell_type": "code",
      "metadata": {
        "id": "nUtF5v2fVz6q",
        "colab_type": "code",
        "colab": {}
      },
      "source": [
        "writer.add_graph(my_transformation.graph)\n",
        "writer.flush()"
      ],
      "execution_count": 0,
      "outputs": []
    },
    {
      "cell_type": "markdown",
      "metadata": {
        "id": "aJrV0KHeVz6r",
        "colab_type": "text"
      },
      "source": [
        "TensorBoard allows writing scalars, images, audio, histogram. You can read more on tensorboard usage [here](https://www.tensorflow.org/get_started/graph_viz)."
      ]
    },
    {
      "cell_type": "markdown",
      "metadata": {
        "id": "TatOPuL1Vz6s",
        "colab_type": "text"
      },
      "source": [
        "# Summary\n",
        "* Tensorflow is based on computation graphs\n",
        "* A graph consists of placeholders and transformations"
      ]
    },
    {
      "cell_type": "markdown",
      "metadata": {
        "id": "3fEtqOLYVz6s",
        "colab_type": "text"
      },
      "source": [
        "# Loss function: Mean Squared Error\n",
        "\n",
        "Loss function must be a part of the graph as well, so that we can do backpropagation."
      ]
    },
    {
      "cell_type": "code",
      "metadata": {
        "id": "CzwjQ59JVz6t",
        "colab_type": "code",
        "colab": {}
      },
      "source": [
        "with tf.name_scope(\"MSE\"):\n",
        "    y_true = tf.placeholder(\"float32\", shape=(None,), name=\"y_true\")\n",
        "    y_predicted = tf.placeholder(\"float32\", shape=(None,), name=\"y_predicted\")\n",
        "    # Implement MSE(y_true, y_predicted), use tf.reduce_mean(...)\n",
        "    # mse = ### YOUR CODE HERE ###\n",
        "    mse = tf.reduce_mean((y_true-y_predicted)**2)\n",
        "\n",
        "def compute_mse(vector1, vector2):\n",
        "    return mse.eval({y_true: vector1, y_predicted: vector2})"
      ],
      "execution_count": 0,
      "outputs": []
    },
    {
      "cell_type": "code",
      "metadata": {
        "id": "5NEdLAlYVz6v",
        "colab_type": "code",
        "colab": {}
      },
      "source": [
        "writer.add_graph(mse.graph)\n",
        "writer.flush()"
      ],
      "execution_count": 0,
      "outputs": []
    },
    {
      "cell_type": "code",
      "metadata": {
        "id": "DdlUBbbfVz6w",
        "colab_type": "code",
        "colab": {}
      },
      "source": [
        "# Rigorous local testing of MSE implementation\n",
        "import sklearn.metrics\n",
        "for n in [1, 5, 10, 10**3]:\n",
        "    elems = [np.arange(n), np.arange(n, 0, -1), np.zeros(n),\n",
        "             np.ones(n), np.random.random(n), np.random.randint(100, size=n)]\n",
        "    for el in elems:\n",
        "        for el_2 in elems:\n",
        "            true_mse = np.array(sklearn.metrics.mean_squared_error(el, el_2))\n",
        "            my_mse = compute_mse(el, el_2)\n",
        "            if not np.allclose(true_mse, my_mse):\n",
        "                print('mse(%s,%s)' % (el, el_2))\n",
        "                print(\"should be: %f, but your function returned %f\" % (true_mse, my_mse))\n",
        "                raise ValueError('Wrong result')"
      ],
      "execution_count": 0,
      "outputs": []
    },
    {
      "cell_type": "markdown",
      "metadata": {
        "id": "EY1sCdWdVz6y",
        "colab_type": "text"
      },
      "source": [
        "# Variables\n",
        "\n",
        "Placeholder and transformation values are not stored in the graph once the execution is finished. This isn't too comfortable if you want your model to have parameters (e.g. network weights) that are always present, but can change their value over time.\n",
        "\n",
        "Tensorflow solves this with `tf.Variable` objects.\n",
        "* You can assign variable a value at any time in your graph\n",
        "* Unlike placeholders, there's no need to explicitly pass values to variables when `s.run(...)`-ing\n",
        "* You can use variables the same way you use transformations \n",
        " "
      ]
    },
    {
      "cell_type": "code",
      "metadata": {
        "id": "LQwAGVgEVz6z",
        "colab_type": "code",
        "colab": {}
      },
      "source": [
        "# Creating a shared variable\n",
        "shared_vector_1 = tf.Variable(initial_value=np.ones(5),\n",
        "                              name=\"example_variable\")"
      ],
      "execution_count": 0,
      "outputs": []
    },
    {
      "cell_type": "code",
      "metadata": {
        "id": "id-XF4cZVz61",
        "colab_type": "code",
        "colab": {
          "base_uri": "https://localhost:8080/",
          "height": 35
        },
        "outputId": "8915fd6e-e3c2-41d8-9131-e07cf73df6ce"
      },
      "source": [
        "# Initialize variable(s) with initial values\n",
        "s.run(tf.global_variables_initializer())\n",
        "\n",
        "# Evaluating the shared variable\n",
        "print(\"Initial value\", s.run(shared_vector_1))"
      ],
      "execution_count": 20,
      "outputs": [
        {
          "output_type": "stream",
          "text": [
            "Initial value [1. 1. 1. 1. 1.]\n"
          ],
          "name": "stdout"
        }
      ]
    },
    {
      "cell_type": "code",
      "metadata": {
        "id": "oMs_t35jVz68",
        "colab_type": "code",
        "colab": {
          "base_uri": "https://localhost:8080/",
          "height": 35
        },
        "outputId": "686d281e-733b-4882-acb3-f7f731dbe3e8"
      },
      "source": [
        "# Setting a new value\n",
        "s.run(shared_vector_1.assign(np.arange(5)))\n",
        "\n",
        "# Getting that new value\n",
        "print(\"New value\", s.run(shared_vector_1))"
      ],
      "execution_count": 21,
      "outputs": [
        {
          "output_type": "stream",
          "text": [
            "New value [0. 1. 2. 3. 4.]\n"
          ],
          "name": "stdout"
        }
      ]
    },
    {
      "cell_type": "markdown",
      "metadata": {
        "id": "Dp3847KCVz6_",
        "colab_type": "text"
      },
      "source": [
        "# tf.gradients - why graphs matter\n",
        "* Tensorflow can compute derivatives and gradients automatically using the computation graph\n",
        "* True to its name it can manage matrix derivatives\n",
        "* Gradients are computed as a product of elementary derivatives via the chain rule:\n",
        "\n",
        "$$ {\\partial f(g(x)) \\over \\partial x} = {\\partial f(g(x)) \\over \\partial g(x)}\\cdot {\\partial g(x) \\over \\partial x} $$\n",
        "\n",
        "It can get you the derivative of any graph as long as it knows how to differentiate elementary operations"
      ]
    },
    {
      "cell_type": "code",
      "metadata": {
        "id": "VRV_V80ZVz6_",
        "colab_type": "code",
        "colab": {
          "base_uri": "https://localhost:8080/",
          "height": 89
        },
        "outputId": "61f4f0d0-9a7a-4c65-bffd-e3cd4c367b60"
      },
      "source": [
        "my_scalar = tf.placeholder('float32')\n",
        "\n",
        "scalar_squared = my_scalar**2\n",
        "\n",
        "# A derivative of scalar_squared by my_scalar\n",
        "derivative = tf.gradients(scalar_squared, [my_scalar, ])"
      ],
      "execution_count": 22,
      "outputs": [
        {
          "output_type": "stream",
          "text": [
            "WARNING:tensorflow:From /usr/local/lib/python3.6/dist-packages/tensorflow_core/python/ops/math_grad.py:1375: where (from tensorflow.python.ops.array_ops) is deprecated and will be removed in a future version.\n",
            "Instructions for updating:\n",
            "Use tf.where in 2.0, which has the same broadcast rule as np.where\n"
          ],
          "name": "stdout"
        }
      ]
    },
    {
      "cell_type": "code",
      "metadata": {
        "id": "-vf11FnfVz7C",
        "colab_type": "code",
        "colab": {
          "base_uri": "https://localhost:8080/",
          "height": 35
        },
        "outputId": "91f96f87-3915-41cc-a6b1-a6ddbd3e3b76"
      },
      "source": [
        "derivative"
      ],
      "execution_count": 23,
      "outputs": [
        {
          "output_type": "execute_result",
          "data": {
            "text/plain": [
              "[<tf.Tensor 'gradients/pow_1_grad/Reshape:0' shape=<unknown> dtype=float32>]"
            ]
          },
          "metadata": {
            "tags": []
          },
          "execution_count": 23
        }
      ]
    },
    {
      "cell_type": "code",
      "metadata": {
        "id": "KkTGUzoZVz7D",
        "colab_type": "code",
        "colab": {
          "base_uri": "https://localhost:8080/",
          "height": 265
        },
        "outputId": "471f613a-9939-47dc-d7e8-a6387beac4b7"
      },
      "source": [
        "import matplotlib.pyplot as plt\n",
        "%matplotlib inline\n",
        "\n",
        "x = np.linspace(-3, 3)\n",
        "x_squared, x_squared_der = s.run([scalar_squared, derivative[0]],\n",
        "                                 {my_scalar:x})\n",
        "\n",
        "plt.plot(x, x_squared,label=\"$x^2$\")\n",
        "plt.plot(x, x_squared_der, label=r\"$\\frac{dx^2}{dx}$\")\n",
        "plt.legend();"
      ],
      "execution_count": 24,
      "outputs": [
        {
          "output_type": "display_data",
          "data": {
            "image/png": "[encoded data removed]",
            "text/plain": [
              "<Figure size 432x288 with 1 Axes>"
            ]
          },
          "metadata": {
            "tags": []
          }
        }
      ]
    },
    {
      "cell_type": "markdown",
      "metadata": {
        "id": "QLb6exNWVz7F",
        "colab_type": "text"
      },
      "source": [
        "# Why that rocks"
      ]
    },
    {
      "cell_type": "code",
      "metadata": {
        "id": "8n9NT3etVz7G",
        "colab_type": "code",
        "colab": {}
      },
      "source": [
        "my_vector = tf.placeholder('float32', [None])\n",
        "# Compute the gradient of the next weird function over my_scalar and my_vector\n",
        "# Warning! Trying to understand the meaning of that function may result in permanent brain damage\n",
        "weird_psychotic_function = tf.reduce_mean(\n",
        "    (my_vector+my_scalar)**(1+tf.nn.moments(my_vector,[0])[1]) + \n",
        "    1./ tf.atan(my_scalar))/(my_scalar**2 + 1) + 0.01*tf.sin(\n",
        "    2*my_scalar**1.5)*(tf.reduce_sum(my_vector)* my_scalar**2\n",
        "                      )*tf.exp((my_scalar-4)**2)/(\n",
        "    1+tf.exp((my_scalar-4)**2))*(1.-(tf.exp(-(my_scalar-4)**2)\n",
        "                                    )/(1+tf.exp(-(my_scalar-4)**2)))**2\n",
        "\n",
        "der_by_scalar = tf.gradients(weird_psychotic_function, my_scalar)\n",
        "der_by_vector = tf.gradients(weird_psychotic_function, my_vector)"
      ],
      "execution_count": 0,
      "outputs": []
    },
    {
      "cell_type": "code",
      "metadata": {
        "id": "gld-lsr4Vz7H",
        "colab_type": "code",
        "colab": {
          "base_uri": "https://localhost:8080/",
          "height": 265
        },
        "outputId": "f5f87630-a430-4b26-95c3-a69653e0a648"
      },
      "source": [
        "# Plotting the derivative\n",
        "scalar_space = np.linspace(1, 7, 100)\n",
        "\n",
        "y = [s.run(weird_psychotic_function, {my_scalar:x, my_vector:[1, 2, 3]})\n",
        "     for x in scalar_space]\n",
        "\n",
        "plt.plot(scalar_space, y, label='function')\n",
        "\n",
        "y_der_by_scalar = [s.run(der_by_scalar,\n",
        "                         {my_scalar:x, my_vector:[1, 2, 3]})\n",
        "                   for x in scalar_space]\n",
        "\n",
        "plt.plot(scalar_space, y_der_by_scalar, label='derivative')\n",
        "plt.grid()\n",
        "plt.legend();"
      ],
      "execution_count": 26,
      "outputs": [
        {
          "output_type": "display_data",
          "data": {
            "image/png": "[encoded data removed]",
            "text/plain": [
              "<Figure size 432x288 with 1 Axes>"
            ]
          },
          "metadata": {
            "tags": []
          }
        }
      ]
    },
    {
      "cell_type": "markdown",
      "metadata": {
        "id": "ebqoWO5NVz7J",
        "colab_type": "text"
      },
      "source": [
        "# Almost done - optimizers\n",
        "\n",
        "While you can perform gradient descent by hand with automatic gradients from above, tensorflow also has some optimization methods implemented for you. Recall momentum & rmsprop?"
      ]
    },
    {
      "cell_type": "code",
      "metadata": {
        "id": "lDPylVTjVz7J",
        "colab_type": "code",
        "colab": {}
      },
      "source": [
        "y_guess = tf.Variable(np.zeros(2, dtype='float32'))\n",
        "y_true = tf.range(1, 3, dtype='float32')\n",
        "\n",
        "loss = tf.reduce_mean((y_guess - y_true + 0.5*tf.random_normal([2]))**2) \n",
        "\n",
        "step = tf.train.MomentumOptimizer(0.03, 0.5).minimize(loss, var_list=y_guess)"
      ],
      "execution_count": 0,
      "outputs": []
    },
    {
      "cell_type": "markdown",
      "metadata": {
        "id": "Mbij8_W-Vz7L",
        "colab_type": "text"
      },
      "source": [
        "Let's draw a trajectory of a gradient descent in 2D"
      ]
    },
    {
      "cell_type": "code",
      "metadata": {
        "id": "xI0kSmr1Vz7L",
        "colab_type": "code",
        "colab": {
          "base_uri": "https://localhost:8080/",
          "height": 269
        },
        "outputId": "72014269-77b7-49fe-aeaa-8cd8bdaefb00"
      },
      "source": [
        "from matplotlib import animation, rc\n",
        "import matplotlib_utils\n",
        "from IPython.display import HTML, display_html\n",
        "\n",
        "# nice figure settings\n",
        "fig, ax = plt.subplots()\n",
        "y_true_value = s.run(y_true)\n",
        "level_x = np.arange(0, 2, 0.02)\n",
        "level_y = np.arange(0, 3, 0.02)\n",
        "X, Y = np.meshgrid(level_x, level_y)\n",
        "Z = (X - y_true_value[0])**2 + (Y - y_true_value[1])**2\n",
        "ax.set_xlim(-0.02, 2)\n",
        "ax.set_ylim(-0.02, 3)\n",
        "s.run(tf.global_variables_initializer())\n",
        "ax.scatter(*s.run(y_true), c='red')\n",
        "contour = ax.contour(X, Y, Z, 10)\n",
        "ax.clabel(contour, inline=1, fontsize=10)\n",
        "line, = ax.plot([], [], lw=2)\n",
        "\n",
        "# start animation with empty trajectory\n",
        "def init():\n",
        "    line.set_data([], [])\n",
        "    return (line,)\n",
        "\n",
        "trajectory = [s.run(y_guess)]\n",
        "\n",
        "# one animation step (make one GD step)\n",
        "def animate(i):\n",
        "    s.run(step)\n",
        "    trajectory.append(s.run(y_guess))\n",
        "    line.set_data(*zip(*trajectory))\n",
        "    return (line,)\n",
        "\n",
        "anim = animation.FuncAnimation(fig, animate, init_func=init,\n",
        "                               frames=100, interval=20, blit=True)"
      ],
      "execution_count": 28,
      "outputs": [
        {
          "output_type": "display_data",
          "data": {
            "image/png": "[encoded data removed]",
            "text/plain": [
              "<Figure size 432x288 with 1 Axes>"
            ]
          },
          "metadata": {
            "tags": []
          }
        }
      ]
    },
    {
      "cell_type": "code",
      "metadata": {
        "id": "A1ADi8WTVz7N",
        "colab_type": "code",
        "colab": {
          "base_uri": "https://localhost:8080/",
          "height": 309
        },
        "outputId": "aa9a66f4-006a-4f32-8ddc-e875aa0a2ad5"
      },
      "source": [
        "try:\n",
        "    display_html(HTML(anim.to_html5_video()))\n",
        "except (RuntimeError, KeyError):\n",
        "    # In case the build-in renderers are unaviable, fall back to\n",
        "    # a custom one, that doesn't require external libraries\n",
        "    anim.save(None, writer=matplotlib_utils.SimpleMovieWriter(0.001))"
      ],
      "execution_count": 29,
      "outputs": [
        {
          "output_type": "display_data",
          "data": {
            "text/html": [
              "<video width=\"432\" height=\"288\" controls autoplay loop>\n",
              "  <source type=\"video/mp4\" src=\"data:video/mp4;base64,AAAAHGZ0eXBNNFYgAAACAGlzb21pc28yYXZjMQAAAAhmcmVlAABM7m1kYXQAAAKuBgX//6rcRem9\n",
              "5tlIt5Ys2CDZI+7veDI2NCAtIGNvcmUgMTUyIHIyODU0IGU5YTU5MDMgLSBILjI2NC9NUEVHLTQg\n",
              "QVZDIGNvZGVjIC0gQ29weWxlZnQgMjAwMy0yMDE3IC0gaHR0cDovL3d3dy52aWRlb2xhbi5vcmcv\n",
              "eDI2NC5odG1sIC0gb3B0aW9uczogY2FiYWM9MSByZWY9MyBkZWJsb2NrPTE6MDowIGFuYWx5c2U9\n",
              "MHgzOjB4MTEzIG1lPWhleCBzdWJtZT03IHBzeT0xIHBzeV9yZD0xLjAwOjAuMDAgbWl4ZWRfcmVm\n",
              "PTEgbWVfcmFuZ2U9MTYgY2hyb21hX21lPTEgdHJlbGxpcz0xIDh4OGRjdD0xIGNxbT0wIGRlYWR6\n",
              "b25lPTIxLDExIGZhc3RfcHNraXA9MSBjaHJvbWFfcXBfb2Zmc2V0PS0yIHRocmVhZHM9MyBsb29r\n",
              "YWhlYWRfdGhyZWFkcz0xIHNsaWNlZF90aHJlYWRzPTAgbnI9MCBkZWNpbWF0ZT0xIGludGVybGFj\n",
              "ZWQ9MCBibHVyYXlfY29tcGF0PTAgY29uc3RyYWluZWRfaW50cmE9MCBiZnJhbWVzPTMgYl9weXJh\n",
              "bWlkPTIgYl9hZGFwdD0xIGJfYmlhcz0wIGRpcmVjdD0xIHdlaWdodGI9MSBvcGVuX2dvcD0wIHdl\n",
              "aWdodHA9MiBrZXlpbnQ9MjUwIGtleWludF9taW49MjUgc2NlbmVjdXQ9NDAgaW50cmFfcmVmcmVz\n",
              "aD0wIHJjX2xvb2thaGVhZD00MCByYz1jcmYgbWJ0cmVlPTEgY3JmPTIzLjAgcWNvbXA9MC42MCBx\n",
              "cG1pbj0wIHFwbWF4PTY5IHFwc3RlcD00IGlwX3JhdGlvPTEuNDAgYXE9MToxLjAwAIAAADJDZYiE\n",
              "AC///vau/MsrRwuVLh1Ze7NR8uhJcv2IMH1oAAADAADVayF8oYJVUBjg5Cl8UC950wnQObmxLpMS\n",
              "eTd2N1o7ZvU7nZLqidQWs9IRqH4qZFuUNOvgrgAArGB7WlESNB735J/CfrjEy3i5zjzWx5r7oD4b\n",
              "7vRGf5YZpSE2SfCltWRnqtLPBS3FxRjhpp/BEdar5txSfEu67R/ppgZwAi2i8ff512MwmU2ndVwZ\n",
              "0/IypwbXeLiexIGKwjGLSLtuFQ6Y/OKysfXRdbpNhUrKtfRj7PsZ4sEuP5y4zl61S+z6VZzYCdA7\n",
              "422O/g7ogLDysqUE24GpHGaJCX2wbS68ujTHQP6XxiSrNlnDwZHgbp5EeVkCuMJlhlbRejAAAW5E\n",
              "i95ObYO5PsuB/yXJXIr296w2R4KtEWts2QxCeaTyILNtSj0FAa6n+Sm+7xuX2JriZx97d2rE/cAU\n",
              "Qsh/+Ymis26EZW9S/cjgVqTEtyVS3CIlK2Ezdp99jK7/nX0GHUivuh8QdJ4bhVPEmo5B7TQYe9Nv\n",
              "n+ebyMRkTx7hvj05vOEfMTes/dwPLUI91WSm8NQ11fuo1LrBS7pJhE73vxY1JjcZWnegaFLpPjAo\n",
              "+BqceCYe5S3Av97ANnEBmzojm/SDmWarQluOhREg6XGZMu4a7snjhzyH4/KonlxVMyXTB8Ya3dGT\n",
              "vrxM2T8GRxsFP+Ki2XIeafZhzaICPKgU1x2LYZqQc9bRDlrWDpuTNmcCbrO7DXBPWt4+vc4y9j4f\n",
              "9IbTpWR0gti3hfugAL5SqzBQBPPDOD6Y8UFjbWEdqCKzj/3OA6QpBOtIpMv8RPGtEtT4zpsL5DgU\n",
              "W7Veh556LI0Gg2s6EOTSBZVPhwxULIDHJ4lu03Q4tzre/frYdOiQv6jsVE3nfmYai+kwFdN6umAJ\n",
              "NF2es2HeJ6s8al37PrMlToRBo4xG0fUr2D3h2KAIiqdNTLWxNiMbC0LlGN11lvyX+Ahm0GVXideP\n",
              "ZkoIbgwLSFFn+qsWQi1gd5YlvJF+grCkWEC4T6N+MBdJXBfELB0P7DGADeeCiixt23fF6RarigDj\n",
              "svDNkTR+V+9XUMdHw/r9y+xO7it8Vyuyb5IT0k1W8+dFsC6mgDXeLVn/GbNZF3YGWU5EG8Y7nNsj\n",
              "bqko6CZeuErm8/ib08sKyMf/AAs7SrpKVD0cArb4AdKJIDbC2QNrWjiENcXzYlCSxePQmmUdD6Mp\n",
              "RY+Ih/GAtAGYIicR2lJheHH0YIQkwjUDrCJbZFeCnESU2nGNJoBWg14ogfTtthCkfxV3eFvcRPTK\n",
              "e+iEpUbwuIvmByipRxXu4m/5ZbB/ehGgXmszbLWVf+4PJebyN/wJxNw1Nrnm+FQmwW4U5fw9Uz+r\n",
              "qw3L3V3bjLxkEL0N6FF3N23po/nf7SCqgtG2VPUz6EZ4DUBF9C7KDffgpo3XMOrCq0UelxcgbN5A\n",
              "0BVURaH1iEZ0thD0RIdt8IMc7IvMYC4fUKDSWlLTx3Rn2vg1xTeIjoWnawISnUuTAgeNuhdyHwZ0\n",
              "L9y6QJF7dDGmEBx2G8gLcI5UYPTDN71STlxmoRsXhCRfvFysfMcjpg5k1qs459KWwsyLeKD36EWR\n",
              "QvjCUgtobDK0vn+lToJZzDw2LPj41HdFZ4GUgC+woiUC6bNdDA0VQ/ggV7PwTXzCmDDKwJOvcBGE\n",
              "XuAh+gr4F6rXz071XuvnJnsoYPA0FCK64ypHxPUl0Lhq8fEME1eJb4NcTtI/TS65nCJUdMpA46Ev\n",
              "BT99o/i4QlmyGpZMXdmf0ZBvR6T6Btxwt3PAaQVIZuNrsdj1NGyCXwnHIxTFqGsAwDgywa1R7XPT\n",
              "srq7IBWGTZPwCRQAYMa3ixuXJgQEMbmfGIgCNj6J350MvUBV9UsmzWd9ZKKHEQkW/avZIKgXkWZC\n",
              "wsEPQpfInl4W7sNehHscSQ6iY1EYowTYkrbWiW8ZNO3vHKtlf7gAIbIfsS30YogXjQD80UyzlOpV\n",
              "nstBi0nEFYJzbRPp3Z1dysKg9MFa0DB92Q1NBqsCB+G4AQUl+BjY7LKPky0JmZCauW6cdAay0JLP\n",
              "aYRjJ3UMNEfHhhsXA8B1RGd2NZooaTXn544v18cWFcRrXuEUl97TITldnYCQRfEaAFL2pnoOO+wv\n",
              "odxXniGP7TAemSC1yPDBzoGf6WfXKcxwVXC/nA5Gg7//5cPAfhwd+gKRaEC81Sn08xm4kpo4mca9\n",
              "hZxuTeNMwRMuL9yXQQmauCe3uNVe5LO0X9FVqA1xWVlWaqAi9FSYMMYAr/ii/jr++YbxNCRi3dgX\n",
              "D1TuFuHplz/H0GUBpVbd1ZJ52yuqiGThmmkqN9IwDzn46P0sebGwjxu2wghcnfCxmvkaippiizdB\n",
              "3Y9sL8LO2Gj5yBaiVxHkQGbo5On3+yJ1RwuFk9l2fYbtrgPH9ZF01jfRnIP8vJUT/DoiHNb7zUw9\n",
              "milD0m+r+P8kGAWS5oNlKATuKhwLMgDQvL/2Xxjlzs4LzzJshq45AcjqNsJZAtUM/nkvT5c+tl99\n",
              "LyNFA86+FmYJH4JADRpYYOg6NHMWsAwE1amLcFR9r0R4cEtKUAmpKcI/sJfRptbhPTp3pNXVZkOg\n",
              "lxUAVXLxhAvM7ve5ct6bpU3I6pDH2Liipvmm6CmJ3v6yuNm3OOXwWQTatKKNmZ25NhR7ceooPg2G\n",
              "NDGhgnZbnPJm8Rp525sJPs6z/SR7sklallac95AWnxIy2+rCNAy7o0LS+XRCi8zEf218IlxGL1Vz\n",
              "0C6j9kt0+cpKE50f0Wjb/wgibTcyUS4u+pi0bEmRvFw8jNWtEf4XrkTeVHv7xnrEZnk30j5tonXH\n",
              "bvbfiA6S2Jz6pQRKah4FvICQmDUzXnP9XqZ12kJBmPpEBqJ8ccAQFt/7gxhAY4uN7ztlgFkA87lX\n",
              "FGQicH6wLEVRAZDiMfAOwhRN/i2L7d8LnqvC1VGMaWJu4jyYsPaafC/C5gfb8oI3qmh+B1lawVS2\n",
              "cIaVcfBtRDJDzbX3HSRKHL7XHT3Wz31VUHzPmEC8t4cs5vJvW2HBRvKM69oA7aSFNyBASxbJ8+Ru\n",
              "mid2s9uSIaR9w5OCBI8kUmUK2ko+ArYILw29FeMgAa0X2XuOC79RL32cnSq5bnemdPTeCi1XLoIQ\n",
              "NIApyxKBSt1N9VD5BB7k2Qx+eG7mKGGbjNpUSRw1iEsgfg8ZQLeLQEGBOSglaNcTqntshnOKapLX\n",
              "YJT86HUWJzEE/k83r4taZJyxMfMdqi4pAJ8BJ94Fp2Yq18R4PDG1yiFJo00v/84EEGs/+EvjQs9Q\n",
              "2Fu89/prve6hu25Mshf37wV0m+KqozaH2XgL8k8Jt1NDY60rVdVEVsnQ5hVdY7cq8lt1bnN4cH0l\n",
              "btgc8L3GyoPK7+wyJabq7tlCJ9b8mH7a7DbC4p6Qf3ENlJEkkx23anH/X1AIW18B3pjmI5vqrfY+\n",
              "ANbULRWMsXtmnu9UkJukv+/44/44kP3D9D5uQ4HQKVy5rhNL9q1tLd7cgeOPKb5l78rgmLYKb2XW\n",
              "4EcYEnF35T1T2npbpTZ1d0l/VX0QuOyoeb/PZDcPejR20dC0YsLQYcH1csLG3N7veh6BAwe3A3Jh\n",
              "3dvN7xKYF1y+Ds4Q5U6HcjT6jy6Mnpq7m9PI/l+wpfc/n+co+xbFwxgysaotLkZmkEQ+oa7y99qG\n",
              "5Ygu/R4H6GxBdehim81oWCczYevx5tKzgCKrFKEwZE5iZtIyifyPpesPW6C9OS2YjsqQSAxANJzk\n",
              "uMOYeNm/dS9BgtLbykwaEEJOeuUEqPzWRr/MK/mfGnSFbPZz2B//yEENrfDOZod6UEiTd+QNRD7b\n",
              "mROBHuDLrdigVNip4t+LnOIVM85a8xnDvnKk5TrA3r8utOQqy+WxuzRsE8yWaAnCHqhrpBx32bFg\n",
              "n3BzBgGvlALzBguk3XuDRVDphvdLCf6dg9ySA3RtJJfKqBlHcliaihLC1UyL/4Ycn7UJJ80/bfHZ\n",
              "E5X8YYt20DAxRf2S2U7Oc2RAaMl19/prifcPELNNG0NaPU6T/aTzh/HOS8u6dJ9QvlKaaEWPMjsN\n",
              "MOEn4Ot8PVp3qdweexliBO+1b8RFPDGjAx4GU8eVRop9FSyAr8DoRPMdD4WwtNH/kn2Cs+MiXQtI\n",
              "DTRxFVKO+ZvL7lo37ZvM42nQWUTBffXxhdFDwd/rluV4qT4UsDL4EVLSP4VFbBX3bUD2oNj7adJN\n",
              "IZkR03KuLy9KL1+dJVyaGSUgfJeSAVOv5f+NjsUa7ISgiIxEPFvd7EIkIOtDvSy+5P//5bkayqMN\n",
              "wd1Z5AE393vRs+s425Qn6gQEJGzaENBohl7wKnN5twtcWL5xxeWHahpSAwqr5CvshRMDKhTctpKp\n",
              "S8CdZYDehzQfCqeB/FoDEcq6T7t/2R90cOAFbuwlQq5mhg1BfPJN4tcHHHRqSCu41LRFkMIKjvAY\n",
              "FGI35930wufnmeNkXPrkLBkyqDM3GBCPm5kyvABQ4fNABJIRnWg0bKV6MuxNvxFXw6VzNdSft2cv\n",
              "ebNremKY8IiYvY2RIVktHauQnGtMj1tnQb9HwecexfuysCjImRhaw2L4J5KRX/Rvr4W6yiAWsuz3\n",
              "GyQSi3nK4SaLb1Zj+5Zgsty5om3CPYbWVNpBfyHk0CZq8t7XoEKLE8IJFELNZ0yGFCIC0dlPpiNb\n",
              "XLDO5ukiGBVh4bkMvFInQS7TLgpY9Kb/04oKIL7/07sffJskAir6Gr1rZl97dhPPhdnMqqEXdNwK\n",
              "iJRDydxfslB2aa6OwuGpm8nhyYRU7hUGtxI+f9E8CyLXGp0+XRXnFjf4u+ghCgtU/6G/mhi3ie9V\n",
              "VoS8ZSxqUFcv0dIH+EA1c/W2xIQmCsyjOKfTlkm/EZtgyHCDQCC08+S6lxK4HOdAJxUm5IEcPa/G\n",
              "HdXnU/yq+AvcExoieXPcYFkAzw7wqPQpD2gdbawsImHqDLm8SoLabdnNdY5QB1tZ4jxyZwZ8lUfJ\n",
              "6mKZzaqzGQHn+LoYwu8vQjBlguoCkMPPBrrAFgAC7ADjpKGgm4l+lY386nZeYmYhJKnjV3DBHEN2\n",
              "nQFOtdQss6hXTeUy7FJfQSV7Ve6YyNzDfC6QnBFMPmfX46rc05efq1uCCEl++jshIRdug98kFipI\n",
              "aHkUOjibohu7Z0lrA35Tzcyr7Yz8Y1Zea+x389Ocv2DnnoOEtqltXgLuhrKBwQ02i1T6UnAjdN1Q\n",
              "fO1xkAGT3gWZSVYbfEHxWRB/LSsRD4fBstdVs2lBLufk0NwG8SK4CShKtKrFnbHJxzceQVhjITDb\n",
              "O2GXyj44FGskDojPf23cZnoYZcbCpFZu/cQa4hv/s49w7G9bFQ3Yi5Z5U9AY5euPtBtBHzrsTZQW\n",
              "BJoJn6aNXLyP9TYcU0/bQ5G4mta7MHWMlvRLzIVqvmurKU1F/8D/m7es0rkLzHtPPh0kdskEG1oo\n",
              "zIY/x7PEToiMv9Am/kBMjZcDtHKwTEZQOxiKL3bF6vAZDpuJf7iQVpeztdSFEWn0Zt3HDmEvNKtr\n",
              "RbGz1OQC7AMfXbVtNHMduZb5zxjNrv/6Fdqukj+1WTR2imiaq/p8UH/xvQAg/clLAZXX29GRvxF7\n",
              "xPUfiGvwg4qQq8oQWKIx01lU3hBEI2oGY/2gqW98lJIIrudXkVQ/gXo4xglke5E961WHowkBo8xw\n",
              "A5YQWaAv9A9fiXobj5jb6P68JBAEVRltAkgHg2hvimm4fCovQ9e7Ob5vEvAznB7OFYW4dHME3VkI\n",
              "djEKCjolxH7NbzZnC+Q1eKmiMrhDLUNrdpBB0Ybdr+ER1SqLf6l2g/yGHE+eCvwbBtO4HN9r2MUl\n",
              "aZD5L3vD3pM+Zft+/gHA9iuhQzbjKgOt+agzH1FvuMmuDuH6ZO7GP3p8lZhB9RGPxiB9HNVcVVdC\n",
              "makuQGcFVPZd+vF4d7BkJBMiybOcXVxlKRuPNBEYMpx97rdtfVx7HipJ1MN2pEsitPZ/3w02g3w8\n",
              "97e+eK62jqKSVGHBZvQ8anCuQqY50CAf/idmvwq7oehoye7P2ky+FT2FlFbwjTXZQrRMt61J+a85\n",
              "8Z6glY8d2o9wEXu6HuRLgdzF6yrOl64B3zPQGEYVN/FbwUYke3MzCT+ebrP/A1k+Y5MWIZLdIMex\n",
              "ybWLH7nx2yuy8CamhyQcKXQ5tJMh8KreHYkzoNcN85fcuQg568nNcd0Fl3mI7JNelPhAghLp/7Id\n",
              "mv0TqRDkcGTyCJZTEa4hOFBzayNkPDSWlzef+Rermq7XFe60c2jIm1ER/zZJs1RHVC2em8X6x+6K\n",
              "hGYFsMV3Q+zzcf+4xpk+CFqz1mZvC/IF/M4H7Gvq8jjRraO6d0OSoC3leqYxuv+ME7WfwSrxE84e\n",
              "ixG+DGu45+IHn7JptrxOTcZyyQdCOuyEJhXNnOdqo+99Qg/OR+6ta8y4OvaT474Tk8w+IaxyaW0t\n",
              "Fr9Q9+RR/846dXRVrkQKYlXAaQHqIkrSlgWsPBQH2/DYwZktAlM414tD0ruqltYwq8Wdq0CVQiy0\n",
              "zgtpf2W1CzEAG+uHV4VjO2vqPCXdj75ppXeESUEPZr1XNdfPPZzGbRWqM3g3xobf2s8Lb/usK6Gz\n",
              "Ap44joab/3mptHpVG29RL7U7FWDCMxbmhortfghgqOe6/9X5DKI0dOVm/s8xPykK8tz0owUpIk4o\n",
              "5IPBvaeEbxAV5EmK8cWgP4RnmkHNSC1e/9Kj/4i/0n0h6sNQPyNSBFiZrTR3PyWPtOQUHbqCJ3N5\n",
              "yCQ5Z6Gk6SLTSLpn+lLv4WMBOwBeJxyE/qlkOeWYW89+dae9nKxbKfaNgSXx1mDHKCO7DqhralIi\n",
              "LkGPXvntHeTPj8coUi2PRpwedZTT76jH12faSDOZ3Vs19PVbWZk6WotVhue0KPzgpi9GWtTaR43D\n",
              "r2fbjW1i7DfyGw2DnqXfKhvzSfFz6JrU/SOf7qzSgwHSzLnFgysEIH6LSKq9cnvgEMJ6ABRmYacP\n",
              "EpZdzEVDZx6bWaBPCfoNd+r70FY5/wNFbt1H2Orw2iSbGg4AKoXDGgG7jzU693dZKExttbzpS0Oj\n",
              "m7wEAKq9dAGGAd9Qqb3JUXLHcwiArskwICQXbf960knB0Pelhe4E1bqvPoWz1z0NYI+6lgJek6aB\n",
              "G6Y+21XVY6MaZkr65W/fnfOyzappPADKhj99jA9U3CkQiO2n8AxLmcW0zyPmLC6QA8zvDUrKY3y3\n",
              "kPFGYvVnm4EqWswYZhfgkS1sjzD8zhqsnrDClP9pFQzCtkXNTwBpNruwuQdCv8kYKYVGzPFhz76M\n",
              "lkfqe8H/rDNS6BngI/wkLQZg+w8fHzlWI5riY9H9GfmpQaXZyHnMTGF0thQshK3VsvBUoeNvbgFk\n",
              "LnuYfHf15VsGD1saFZWWUtRDj2BReFMa2EHtk2RLW47fG3zGPHIIO+jtBmeGHTAFTlbjA1PMBhg3\n",
              "ZvF2c+pfD8BA5qKcxIzgnMC3cHvShjN4Zgz4OsbSwWjnBYa8elODsiDfKNVlCRzQovGTEYjDA2wB\n",
              "2d/vnoBd0NXQ41hMxAyRljgKLmdARt6GIhuGgP2lFFPFxZLTyezeTEBmPYttvqjDxdGvFkaAM95U\n",
              "7aOxhDF3Rzo5TKrebwIKBVMYpw70DYnT9mEdETiNXG4z/xqjSKkBln6BtVnSvAbyRwsTf34kzsC8\n",
              "vKHhBFQr9B8l0Opw01iHF2Uxt/a5HMQiS6fmwOrJsmDE84Z5gXiz6zQZvbz4FqbjSvuiwpNHBkwS\n",
              "O4LvPS+7z4CpP1R6txNwD0roflgl2oUQ3FXkj4h+BFJ+SrJz/sxDL0fb3gy7r9a7d3Xpt9bQSKmv\n",
              "IhDie4BumRiymkcmEyLzhoTWj+OXojZuUf8OyqF+KZBSi4Hu/k61sPmP9jl/dnkPvK3ux0NYCrg/\n",
              "VIlVDsoZoF2gsw7gbFopXC4lzOJjuJk94SvkMaNGd21NZylU/Jr+HCLPWzTNPY+SrRivOToVqpVx\n",
              "QaqwBdOqlxgr1Fhe3NRy+4rR1yGBK1YRa23bgqXK0gmNd6v+wSvg65MLYL13Pqex495E6IR8+QeW\n",
              "wxICwGrd0kyL3jntaFYd8sXK5mLdsXM4yKV0bbgVJ7s1uHkbkEukRtSoqt1I32Zm2IKQLXL7B+Mx\n",
              "v/soDcqftzijgA1kCKrUopYZRi3Lft8sOg33JTTj9hUK7i4x0RF/wcfJGtajWmcW6fNMY9OitFSY\n",
              "tStpc8hFH9twyzYgD/FWe3jiSTE40e6YsN9MbynUG7OLgxY4+4H/vtMhaqvktH04g/pbLFkhyw9h\n",
              "3dVhEA2Git5Q9D6kXG9w+82qXafPJ2dWJWXg/tnH/W1yMd5kQyG08C5IvYoKq0iv53/0BFfpeLZy\n",
              "tipS9YnYtvN34/9+0Ui36o5mxeSQkmMZmKL6KOT9abElcQtJ65PWxyALZtJBqzd3kXOc9ZmEKPcx\n",
              "ynijonHnQiRP24b8jxlxGvKW9JOYyXbBeD0Cq1giDW5y9rnZAcCmpnWwsbbFzbzy4jAIcmlrQdgt\n",
              "np3stf5nd6ZtSpcpA2m5Lf69ySu6pl/m7FRLJVPqfbju9ENDOwmVVvR4kv27vQamZGiQCxtXyfVc\n",
              "4NEJq79bUdLr2htHUxz5pM5JUoeCfB1J6xSQ/hKK5hzbuuqELe91Q+GJXNfnZUjhoQsv7VtRxAo8\n",
              "geXr/pPncbSig0kLB1cTTWNI7LozH7m6TeZzF+FFVpVUr74E0yeki1qiff9BZ89EDDCOBwQ8ue71\n",
              "JbllGCZ22l83J79YVmB/8GvP+vrvL+o7bRdwSKqS6wy16pAh9qnpGGcZmkN61zHIDgfoEIWqzfEg\n",
              "dsQwqKcVD0Wh68at+oXZ611zjfdGon+YLyJ1wW7lT058MhvdhZT23ZuqYvj9METQaDUKnr41p0DT\n",
              "WlgCjab/XB9k7EL2hLVex+qBoTy8nYOPmMDdiyrcljssy1Xtv2DSC6YHLQMVvH4LF6LMaQNWj7Kv\n",
              "ALGI/jzoBIi6iyI9BVKy1bBQysH3RgNE9W5zzigUSRNKokyW4ubIVaiBv39IjCG2ueUZw4UBJEZb\n",
              "jlXmHIQc3BA3JryYvUXlkn5Xu5rCGSlerOfuG2eUL9G9/++Mhh1wG825f8C3j+Pu3N8VfXshjwwA\n",
              "AuWvROCAlQjSwCiLNZe7Jr896k4pCOXKSjfbg+kR1rZiXWAou0Ls9FiA7pyUkbY7ZLAAz8A1R12S\n",
              "r++SyDZni1vRIcFAhgbt7nwffR8bcUAFR6/Ci0CNu3aTRmwuQEepdrrWueSe7o8K0/DjHxbP7O4w\n",
              "X9jXC9m+60p7oNcYlnZn290rcLL2x6l41ArQ7+5uIN7B7KjlNeE9BJubjzrpb487gPM5uoaEhp+i\n",
              "CXOIhpeaWA6EvwdBOkAbb6pLpV2DWloO+pU/LwecZIJEnLiqgBRxNBcYy8h+A7lMkcmaORBPbIco\n",
              "vWCqX+kjkvu5qHWqaFcXR361rR0NP/PprqmJJddYQm+WU71lXFfDal4+5zdcAVsecYrSR2dMspce\n",
              "5zQEvkCm60Nv0BeIERNOx3gH2Nz1TGxvFRTx/vN9Q/eQ/VdnB2LKoGuyKkQtBU2UUAdTcdLveZDK\n",
              "hrRsLYAvc+jPCTC5MS0Jk96YuGVm/3aiLym0fDVZ28IM0nhD1/4KZaLnWR73vy0KfBZ9WULCECnH\n",
              "/LyQySFHjWLFuxG2OefyPftuRBxPIX+HvqAIbMPomg3liISQZ1gsv0wLwp1uGU4U2lUFZ+yOaPl0\n",
              "HT2L7INthbLB01Z5AcXMIzOxNs7nh5he7GtKQ6BLWj/ROaFm/r0gnQGrLYdB/URRTHMTH0bOvvwc\n",
              "MEvJq9jf8YFMH5bjQS0yaaK7/klW34FmxpYE6i/iXZwg9WAbuSOy3cwkS26spUeg2uwkT0OOZdPz\n",
              "pEjFHZ+R24NW4MgFYBVAtqtshP41vRxSHr5ea24Ufg+IxIjVw3/YJ4Ykg4v4mLuUsmKEuteONgQg\n",
              "jEVPgckh+RzhVTreTnQNxIf7rMmIv+YFz20wIvP9Ft+3+lR/LRkGTFV4RDf8q+3VsvDx+LI1z597\n",
              "GjGZgJGAHQ2sW1l1Vso2iZ3tBK9teE8c7AgkcM/bU8Fj4Sek7abdI2DjYX7EPyXkT5zmOw4xLo4Y\n",
              "l1iVLxNBfXHYEUIdOdqWjMNWW1dGJPqcwcXgjc6hIrDCS221uAMRi0lGeMiPYdZew15yF+Uur5ey\n",
              "z3Y4SS1UhuCQ818vPevE8Oah9zDMaYbtd1D13jQ0eNtl+jgHN4lidri0NLosYFY/GzEO6S2Q3VmK\n",
              "xDZfX9KVjrCTiC5WyqPkQuB446u+nz0nvDdI21YwEJGgH8eHizhKjWgBqBJ+Akg3pP1w5vBkaICy\n",
              "I2DyqBW1oKv9q+LQblNo1tl+R67LKrz69QdEnBJiYndmwII3YwYD3YHZFdfLwoN7FbqR4gfTfQHL\n",
              "GirbP2GtyFXeoNoZnmDjeqrIinTeL81krftR2cREesOSFUdJxH+jhwUfNuBdjZ4TtqCcnrrPgrNy\n",
              "wr7YhFghW5l03koNnyULBBlhTL9YmXOJMz2v8v/0IIZ8tKdemJC2P+veEPK4euFOmTNRhdV2vTca\n",
              "FphxTj1tPUTLp3qZhFbvVqH7GC+pDB7yCBCA8/9YZR5c8E3i7xlNWohw2m+nT+nCjr/m9Lulk0Za\n",
              "S46+cy9tMz2ecLZOfld/4+ZKHjoNmNmTJjGs5VjFu/6SZleDOK13WiKE3J+J6gMgXkgJDYKjvEVW\n",
              "oi7DcRStvCHiFbCgq98i0HnMcadF7rzRnw44AVYlz/NwyGusfF0b5vH99QGFjSaA/c1JW21iE6uh\n",
              "ucdvc6kKyKw3JC9CLPgGFF7mCqyIdhLFmJWtgPHPlhyA8UGkDIo+n35czzXyZ5asEw9lzkCagpLn\n",
              "BPg3LvW/r+pk0xeT1e3AJmZvmt7SeKX4eud9PIDcmcUkEkerOE/NMwNgUYvKVLIJp8G8lb4c906e\n",
              "LRpYbrzwyUpmpyYYD95wg9rYAxFKYm3ZIxFobscThyfXmIkbYJarsS4zGB3G7RFSqma69nWxgJf9\n",
              "5yjxYZ8K3w3ppXMKBsl8IgULMZIiKp3hWHb+9Stfps7hkwOahEhpuqjYjZG9qvRPgNTyuEduoDJF\n",
              "hULAqZ1bHhA7P/3TJisOmv63cpNGR4u2bbw+WqjzL9j6vbNOic05hehMFGfYXJITxFkF1m1ukFRd\n",
              "R1UTrVIqh8MLdgbM1h6ZURndFicRGwTWBgrfQdEOK05LUb1amGoV/BVkGyzkGukZIRBZY8TkXnTE\n",
              "eNDsdRy6ovimgSp2jmR2Yen79zxBMld1x2YWiuBw1BNZ/2E57FQSnGyAcNCyGR7q3Ir0tE07nGuC\n",
              "bKRbstzbhszs4iylWMDrm4HSVFd/5ZnL3LIhSlGh+ogrwkLgBxhgx2a2TaDl3KTyUkioLIvIMjhj\n",
              "swnDBGkKw5qLqMFZtyqAzuXW7ZyQUqZB0g97FmuPhM+DcVNU3fD9PjUWknR1AZ/RTqRPCjnpfK4S\n",
              "NLb4oRccIHTCgmKOx6KDHsFwypCdRTo7LQnLrc9aBSy9zzlu54J8HpLU8q/kyQANI3LRY2McOXEu\n",
              "7Cj1sQIlfJZ/1IBG/Yvh+VwtKtLJvlbBuLSMPjWoUNA1xhJv/noU1Qr37LODbC2snYped5BJe/Ov\n",
              "vamNlQKAYDaUBsRkkRIzYbmHAdGOYWdRus2vh1PXtP7KFKIYD1hYyGLrpovh7uh+0XDwX+1MGden\n",
              "R9JzgcndyteEsoM/gQlgldFQ/PALwjuLjo0a31rUO5AaDEnFWr6qtmGJ1M8QfvjbV9KFuODup+XL\n",
              "14vyUogsetnQaNBcOZ4RNrQDFmyrBceK0cQ2hCWQ34OW3NS9dDtt61wWmpYbWFbV2XOCkjyWMnjj\n",
              "s56Bcp/TXumfgFwK7fQzWrD/qF/Jt1CduXLgA6xDir2lGic0HKgtPXTGAg/ZVrkK5OBft4q8/++i\n",
              "LwXMipHKFkwLataIrn8U63FopmOmTXlrPdO6/vax2OKCD2TbznQWU+Hn+oDwoci82CIlhZOXf53d\n",
              "VXLV1CiJtE8c6tMVQQJEHKcC9Af2tBfhSimrNQ1Atoo6FQVsXvyi1ZBpXftiqGqOK2x93QY+hadE\n",
              "V3W2gc7WD4buTfEX3xojcl56Cb80AXcT/ragkzWdSQez6LQQYcKzMLedHzKs15vU+57dVDATlo6U\n",
              "L3NhntLOvDkK7XRynZiXsKDS5oDnyTTgpWkSd+f9ByC6WRjP99GzufXPIEAIdij3W7cPG96/gfCi\n",
              "GlJ5ICnrKfIDhYguujraIVQdbwvZ0dK7kIE7LNrgVWeIzaVVEtj6HXUg6tZ7DlxNxPUa4DndE+v6\n",
              "tn4HtkaeaT3q05Tsn5spcZakXNHSEFP9ubZjVhErE+wl1If2SmDFk0NsKeY31nqzS6C/WoxYj9L4\n",
              "PV9wyxvg8qB/9zlL8tLOfH/qSkXFSrr/UUcuWg0zZBK2bPn/MR/L85UZy/9UgSBXXry6dH2smRFb\n",
              "pLNSRgHI7aydtC6A8/4nYnDZpa4+uZFA8ojVpclmM670WD//D5vV4BFqs77repdJC2tCkEVkug6+\n",
              "oC/G0jF36fdt9H4F99kB77x/0GhUVSWw5N3PB33uJWvN0EJkm5gEWXBSgwpxhmxzakD27ZagnRT1\n",
              "DIEYRy8oRkNSLpEnnF2tcT9CuY3PyRuBOiyk4xiHDQZE6N/SmSdaLP3K2lX/7RsiyUbXqzLjDL1T\n",
              "vdKBNd8l8KQUTytu/x/P440Ggm636/8BWIOq9tx9dxQzYVCmZ8O5XAgaeLSUr7/FgQ6jWgAc4Gfp\n",
              "8/UhonQLNtvfYvf9bznDICi6wChvjdbXse7Lrd9zUxAtoy50uii20mvkjsnSo6VzQeFw6o7szdCg\n",
              "Rd7vVgXXUIkGiDfu48p3jOTMGv9X3LHAQBx28nmGQif0NyPzarcsOAWUg+hn62Rdfq4hZ+NpVilQ\n",
              "sl114LJuaap5YX8/00kcnTnMs9yj85xE3uAoqC2fKWHDbMFmJ0VSRU9Ir7xcy1bTFeQI33A0sttH\n",
              "Bc9TsZ34JRg3xkEpFSjNp1kfrh2FWj34+qT1Nqdae+oWdQT9WN1hLpbSdEvutuAA27B8r4Il/3Cq\n",
              "zTyuP7eKqCaISCH6OccaH+Ka9J0qvmNMkNdGJ1TBoqKDSM1kf2Kot3ktOBbflBLwzP+7KlLKMoBX\n",
              "iEFlKjLVZZ663EJbVkRD8C1Lt4h74d0woKqvJXT/I9MNPUja8h6zpkatDdp/+VdDX1WZ9Uo/6e5y\n",
              "K1iWeNVnbHSotflvDgk/xxEdCAGOD1ypUzbsHBLWYBRarq7kSJLEsu4jyqOn6KZCgfz5cBjE2FBv\n",
              "Vbu1k2awn2GH6sYM8sVZxzEN4d291Bl00Zey3G7R5phDQRl3E/5kFBUlwrCw/LA9fitRvwxSuQ7V\n",
              "2gGPMjDu6qkcUz6PJclcC3D7FAuMRSH4ZomG+nVeR9Jtem3nop4EAOJiZZ6iyuDWhWDM6U+sAGNd\n",
              "XAVa4SX7rGZGhxlfcKCTxDHGXIMRfpOg9Tr3TE4qLybX3zf8lKIc4q2OTY9njQiT5/X4J0nJ4GOB\n",
              "Ueq++gIUJqEw4HYlAZmHQj/f1M3R/SC4EckuRKfy7wJ7F8gzSn4cC7mK621nP63500usPvuoTZLL\n",
              "wknDZtxRnEhdfq+WiIpEw9bEVetlGqr6fYepYbE261KnnM8FH2YpGj4kf+T+cwDRLdr9g96TuwJO\n",
              "5eZxsnw2oNDDWqpq2ONpoY2aJ9HJixGJo2O1+a59NN5SEkOBVWsVe/iym/2UIhLEYAZklgYoMIcf\n",
              "t9dPIoqTr3mYM5fA1IqdWpRsybgFl0bmIhBMpzpfiEXorymbU09CMYj411ReHDYJOk29srcOz1F4\n",
              "zFP27WywsvCYaBUNsBB6glOxcpMUNTxO2jXWjtad0SyJzYDbtRkX8SB0/cLepeH5WEby3DCKMmk6\n",
              "+m0ajVdqo66sgOw8ggJQr8ScgIJzapYTLPX9yS0rhZshOrusSg0oL3pVt+A5XZvB/snjptPvVrQv\n",
              "ByoCjX1eiGFB+y/N0av1Mjameej2vYWWbwOuz5adiBkLshuo1369n/csdLq5APGVHHZqMksTR4lQ\n",
              "LlFfJVnzn0435cQyRIsXus5y7CiY2OlRt6i8wIOto/0onAguSLEvLTp9j8n+i5kYb9qMBXFNauXM\n",
              "WdVl7dfAQ9oWVuFMCfJEro1nrX05DlDc+34YPM4+PvQYU4g4J2Rf/+gEA1F1KwCw4zOeH+7hQLwh\n",
              "6/9EPkbZnxa6lo9mBwJI8az0YLVtF5siM37W+PuEbSdE01qa1QB5XWeB7HUigh5nXqVb0jMtC3Bx\n",
              "GdBoSezIXIz+nthsMGD2GX1SU++zyaRCg52zAH9qKgFczy/I4byVIgZTZwRqokgeQcKPdl7uK9/j\n",
              "LmROuDJ3+yRboM8FuXP4+7dqmOBCtTWYMWpMIsQ4TOnfusNutDFKO833I/m3uKW2ei2c1hT7r8pI\n",
              "c5GfhbWlK/oaN7WsQB4T4Y8gtNo9skf4tsTghGfwnybb7CgHKB0/mprUdnKVWV0oT2pukgshul5p\n",
              "gJLLBklwN+VCyEH2ziJXU5toR5LmtHomKJKOiwJkd/qYHKmSiV6gOTKSkrg8E+7xHI03hcZFhnIG\n",
              "OGWYxzIkqjo0eb0leG2KV9m+7J0lIocTr8HJAnd5mH0BplY9qM9iCkOauf6/deIN+g8ICsf8KUpH\n",
              "JWqDURPU87WLiMsgS4IK+yUeD8PXEUp45v0OGXlM8UU7jM8oo/qENc9ON9AeK63/9hyHgHE3n7LC\n",
              "mkm+hGbnQwXGAM1GHgydK3tSClvMLNrbvyEp1mwWR9fYmdgRb9hnB9Dvof4XQyVlk/t79W/95i83\n",
              "LmB0lnX0VxPP//+OVaC5WV4Plz51mP4qA6aT3wBa4/DxHwYNisf0NvGF1RD2AxX/b2D2S2TSnEeF\n",
              "005AkFeeMuWYOpG7nozg7KlLpATa+yRFyigdWJUnPrtzejf+oDsnr1TNFV/Bfw8yZKGDmWuytKJR\n",
              "jUqWDPyALQY2UNaWzUvh5lOLqvmrJNRRImHfGUfw2y4lC7fTymtVeEQ8GEO3CO0r6FOOf7EcWUyu\n",
              "AGg1PtSvCR9R4yhn6TstmilZ2lBzJOPGM5gBRcnlmw24+itLDE+slHKwKwmQr4AJJFFh9TlesT+P\n",
              "f3fZBzGf8z/ecyTnkigAsOcetD/tvVKu8xSdDeNDGBWwc3R3n0/4ISu6buGWWwoVwjs3JBWC8v9k\n",
              "YuwfCYvVCrmv1hBeO6hwvPgyuJevC2OuoIiqYUXHpASj3c9TjaxbSNUaUQEUyu3y5RGh3UF10+41\n",
              "cl7XYrIpN6Ann9xjcHRkcxQzIxRCD2/2BfKNyGJ/lrHQhoXHckgCLBhhnpQSd6+NsfvP6F2G3Sjx\n",
              "5sWQyWdGhUqHVN0U0lB0gIu4yltiWvgJaBpYUVM+iG7vBvzsFxDQbT6pFLLabrnDsq83vdRyUHl6\n",
              "57n0Hgq6gs3LFUBrqD603avI+Sy4gXTTO8yxbtvNN4Uy+50bKMsM+Sbi9Hu6nmqZRtuqWksW5R6D\n",
              "2XLTAvF7h/hZoFqEtfhqIV8M8hXrHOr3fdADqf6rh3ELWRrCRMbgFiwcQ12nEX44xb6H43XpfH3T\n",
              "oRrpcku5V5BwpLhUJJmc5uBmNlhIhnoz3BNf6hFH5yoE0kpQviXvnChaUgSGOFi5x1qpt+JOKszR\n",
              "6ECsSI+g65qquY/Y9ueiGkBSgILn7K61IaH77kQZIrayWCWu0Sx3HyfXR7F8P2SsaBJ+Wf4eIs59\n",
              "tkT/G89Bvm+A/41AF7+MVGNY3UIoxJsC7w6GJZJR6DVRxPEQi3iKmN80QwKxsv9QYhLAgXcYR+F8\n",
              "lNk7MmDmDVrWXf+0pB+4uJZPBjBlK4Ep/XLSh0d8SFLSCbAps1Kb25ocFniJsBuu41ftqWlJkEPx\n",
              "45OZgeO4beXqza2qccutEq8r6j1tGlAkllrQvlWR31yndbCrTOnlJwcP1fdjNgh5NzbP/oMlmND/\n",
              "RrhvcHo8szVRoSuXPe5qHjKsA5MC/Mw/9XNnVt9wPgt6kNFgAQlzNsze9MSDRGrhRVXnKO31JOmU\n",
              "PYOcqdqzBGWo1urdMTly3tNr3hTpAjj9DiNsqVgLVtBIFa0zhvTjjviAdip1KevoVqDwWzEHR5K+\n",
              "RpZJKJ7cqeO3ywEun9sF8H2hqAJnETEVh6/l85yekk8lit25iBrxJ2J/HvIqwoy5yQ4xazzcftCU\n",
              "O4gDOcsSHTQ/OCbm5klhDya3xJttrAATeusUh0a4pWMmtm18BVpSwtYxma8X0/0pB6m9O8aRZRKQ\n",
              "NRRmf7dDP9A/0q96V7nSx32NwKTTR8uXzT4SLhDmms6RuCHnnAVlWGwsjPI9VV8EV6cj2UPOgfxK\n",
              "gkXZMveiG25RNpKYo0RpTysqxhay5Gm8OiPmQF8+7mI3bbWc9BGzY4qr3eNBbPO9fvnG77SO+wN5\n",
              "Nw6vRdnGl4G3YgWal6hBrDLu1oMt7fD6c5YnK9sUDZD0ENufrWbqK8KxgU+Q68lGADz/i3UEvoPq\n",
              "O9nnILpQhuUbfXB/rhQnJdOQA1JCOSfEgI48JzVdpyf4l/4l3ksKNoo1ygaezaL+pgPpm46I7wp3\n",
              "05JS89eESY06oNt8c/efJGeXFVm1pEmSQMO0GB/OBnr9iPZzT7g0Mka2AdzcEC7/GeEMpjRpfj5B\n",
              "FBbiPG8bKKP31mW355rtue74XKss2W3tHqhyCpNg30rbBkvhW1LK9Sss4Sx2xznHX3QKydazZc+v\n",
              "2DB9QBN0nPnEasOKsv59BHgea2a51bzcxoJhmYS86mPSbR9OFN/Dei+ydjW0UAO+UIFe284HXFOx\n",
              "/dRxDzuKvCNMRaY1mS5RtR6YBr3fcJZ3i/+zj2JTgOcNDs1FRkBxMUcnqb6xCYf66qb60Y6SvJM+\n",
              "maK3e4jUArrsJ+ADCBZ8FPoPJnNzeq90SzUpafeBXwFt1Y9wFZVhpOtt4mr9YA4j5n+V7gmYrCLH\n",
              "cjve4YL+j7Zoig3KByluOUj4WC6i3KHkPzEQO7cNiPBoRvQ0SyYKBJcVCceNI1TvDZ26TAJAWMQw\n",
              "vqPU91zqtq0MhnT8Mz0w5L9gCvZg7ZW9oonyXPHr6tootNDZT+7eXU9Onc7COdgXKFVC2f9p+OWu\n",
              "xmooCxLRTddlKcj1W/MD84P+pM6oZ1+qndu4yg0i+9fEpktQCJEGBcsx+LHeUaW6r6Mi8vqlpj6V\n",
              "zgeQG6Yvx2k0djv+iWSHsNQP6chPdDoABHT/RwqZb9++4I57CSPLAAADU0GaI2xC//6MsBzcTk5z\n",
              "4F2AoNrgGhVF/C5GqUwjZ8DStReoce0sNCv78x5XgzAwApMmQUVQaLdaTRb6mVzwx0VyEYep07RI\n",
              "N8qRX1DlDN6P2WBl/svO6fT8tyweRYznXlu4W22MwPwf0/xMR8xZkE0eVQg8GSg/EZT7dnlfKoVR\n",
              "1rrhHstr6r6v9Zg2+T8g5d8M9bJ4huxZXrLc4Wq0PwyhdV04NviwY6cXpTXqcT0WRe3v1Qe0NTvU\n",
              "e6tl199ecRnp11A8WuS4sd59N274NT1wEEDQWoKLeSzLx4uIxIfkSTWc0Qw1vN5PXQG30xHmF39k\n",
              "r5zRV1tjyfqHAqkQP8BDjckGJMPJjCIB/Zb9n8MrCvbP/1asUTugFtoUozTyvZ3IVCN9/hwGiZGw\n",
              "9sOifddLVtceeQ07DRNoYfPqzMEINHIG686mCnHWsRp3iD1ydniCuBlGP95+mko997hDxrszKACv\n",
              "6OjaLV5db5SCBX8A/XQKDb3bLfjh6u+eG4oXgxO4bpbB/qYu3+PZ74cxjVj42I8bDoOLeSsB6SIF\n",
              "pw2dqJ2SjuxMKZZy+i0Yb+1BvAAdUsnMQ4IUs+/SClYBeABVJdu7BKEgW0TFJSuUx1oQ13ACt+7m\n",
              "mvYHlCIc3vfuzzL1efStvOhZmkGN6/pqqUfrDyuDa8ZGcw+ECVbdomLPhfHE2P4KUIki21ruRVWV\n",
              "blA7rOx039kXwXoasw3eCYXf0PvhM4SFx7yAf7Zd2MWfzZB1UvWqIilK2/jSELYRsnwuI/vmMhxL\n",
              "1bVoWTscOlB3qU1+sB6KFlmPODSiqak8/+Dn+A4ecbS8qtyHS55PeuxResnAihJ6sNDsVS8Blm66\n",
              "usWl+HZZ2ZFDS7PFmoRCItTHDTkLrboxeff0LTBIFbcH/mWge2qWSWE2CFryLXTKWiBREKYENvIO\n",
              "dDnXfZhN0+SIwE9aqZEElfPoNxXJOHmL3KHBi7Uw1Eu5JHRDhNBG2OjnwGSLg91VXJYtT3B7WOhH\n",
              "R+Vy+QMb4JKkIiCiX/N4EEmxeqoWtVPDQ/5cjPxj6nh72bE7IDqoa9MFfr+2azyFneLmIkyTtoHE\n",
              "PJ3npghc5GdTLQSVTzOsfQCLqZZt193ovREbpn4zHpDTYN9wt39UAAAAXEGeQXiEfwNo666qYEG3\n",
              "hNAfbzOKj1FzjTTdb/rgCHmmktz20FpnZauqQnyI3WV9utgEOUwznWZCDlr9C7I9g0AIU6jSF3ie\n",
              "6M/XjX9Yz55DfJR5kNNgjhPY68WhAAAAOQGeYmpH/wfqNKaUXM6w+LwH4xg8PlA325J+g1IWE2i3\n",
              "QOrDzwACUtCb1vDabJF7fkmAyxx5gfKpgAAAAVRBmmdJqEFomUwIV//+OEGdqRLWc+wVB1eetedI\n",
              "aHcXuxgau+e6y0i+AGVobnrjb7LZ6GKwTUMlhI9AiY4BzBe87xnsEeORyt8/9TSJjpMVKlHWgvYb\n",
              "R/yk8ktBSVRf++3RXHBveVbqd5dCEzbhE/BryZK7pT99072yakCDy+0nG5YMvxX3HL3LBb0l1WqU\n",
              "qM9qyXI3qE72y5eMyggpWYoTQZdQ0jel0bknt3L1FDXWInhUaStuNBSY6zR+6AGYZy2Wk8svvo30\n",
              "1vjHpXgWd6H59+tsyhC/Xm4ZJCxLXFsi4+spTKP42n5X88aMMD7s48hq3MFwf/BR9/sGzbojBHeR\n",
              "kx6nEo1s0fAxXQtgD/oyof3QMJabpwyO+oehGhUp1+LzTh7hGQ0aa88NcUVXlFJ4Z4Km/+uIhxpn\n",
              "PQcU7fAXmT34EUwfbJCgfVJzC55lbilrOi/xAAAARkGehUURLCP/BVU1Yoo1ZgweUnm9jjTguRpB\n",
              "5sm0V2ryJcV64gHeKmHCqqqw+/7SAD8SciQ7vJf5O5g12TYiX9Tk6xoOlBkAAAAwAZ6kdEf/B+J+\n",
              "sKZmdPLSQJQ7Q8PlLZ4e3ABng1SYDfbDYWn7Hp2R+5/1vD2GMp/BAAAALgGepmpH/wTz6AyUJe8i\n",
              "nQtKbuVfPqKzhuPv2gAmXPIfJZDHZUB4OumxXP7+XvcAAAByQZqoSahBbJlMCFf//jhAE0P2YFAJ\n",
              "FkBmAIJMQaD6brnt8dCt1iwsy+nPLBdJgkHJIOAFhPexDslNLmc1V0RYEO8T76Pp4jjT52bSdGIe\n",
              "AwUDysW1umfh0MwHxz10mbkyD+ks1BctMTWMCqHc3QByZ95AAAAAQUGayUnhClJlMCFf/jhAAAw/\n",
              "BGdAGvWwyQvJDekOFUIS4CLBuoLY42hIvyAnNz2sHf86vcJvCYkJLHBa8WZwwlZQAAAAkEGa60nh\n",
              "DomUwU0TCv/+OEAAGHY46BUVOZDxYX4k6IcjHWrt/Z4eJkHnNPzvzYWBsJtmFYENdqNaCHd5Ad1D\n",
              "Y6tpceWTp7n2m2ZkqRdbnDRdPnffpGawVyxYOoeVhuDZZfz0hbWlp0Ks9om5P7l8CRgfuti4FU7S\n",
              "+bvhl32Fv7BEFzSQ2SBjB989oh9PB22j/QAAAB4BnwpqR/8A5XufMtFQtm1aUViJABc+kVjoextg\n",
              "49AAAACKQZsNSeEPJlMFPCv//jhAAC+scdCJc4Cp+GXv6JxtCdxhfDdvNUpqmuVAq7YYeat+oTel\n",
              "rbHjps6KyQDXghr/jH4G+xIIuh7I4JX7UsPuGmmlqxcc36y711TQZYZI3/ItaujCcwI+pSgzvzp0\n",
              "+vGWuvmUC7UbJvh/6W2kZSJLJC1KpNilQXKyyUCoAAAAHwGfLGpH/wDle58y0VC2bpSAhPtwIAJx\n",
              "ffClUZzH9zkAAABAQZsuSeEPJlMCF//+jLAADFBYs38Lgr0WB7RlAquhMb39jW6IrJTdJSAeKaEO\n",
              "xShaAkQNksB9n9TBr3eRhD4e0QAAAExBm09J4Q8mUwIZ//6eEAAL7DJ7gCg27VmdeR65D/RAqcvQ\n",
              "LmVTsVF83YNoj/qsSZMDfqP/haEosF1COOQvpYW0OR358Bie82PCwWKnAAAAn0Gbc0nhDyZTAhf/\n",
              "/oywABeN8fRBgcsALzR0XkD3vU8zenRqVKUDSaF6HbCNl6574/XBF4M4ieRjKeeOk6loVWBpjeyy\n",
              "5+ug8jeq8tYDMl41yztiqsH2A0xVxuXO0s4GTNnJpon5jhDhQ2QYG92f01U3KkcaiIzi/5DgibnD\n",
              "Mf75UneGMyaD6EDSP0mBQqJWD8aui0UleW1/hjBAKn6qoAAAACNBn5FFETwj/wDc3GCWDlYJBRTS\n",
              "5aZcrlNxmq8YZQKeIvPyZAAAAB8Bn7B0R/8A5XuhD8m4s4BTfPb4AAuKytLcAURK3wbNAAAAIQGf\n",
              "smpH/wDle6EUhaZ0+z22+iAAHFYLsJ1CoeYjdoCHgAAAAKdBm7dJqEFomUwIX//+jLAALfvj4MXS\n",
              "AAhHqEEUrgXIHdF91F0QxDuZftGrUMlXGru2/P9wJDR1jAAkG9Dbtw8e9jVZd1MQmDpQUt5Q+XhH\n",
              "kxsQkEo61WNo49VQ8kuPPGODF5ZHa6ivkSISjsWL2bQg9cofOxiSwYEKq7KdMXqMeXDzUOPCL+OA\n",
              "ch9FRmB4YHWzXVOkiQGFtFyyliFLEVET1GI5ZWBIuAAAACdBn9VFESwj/wDc3GDTWJcxUqRZmOku\n",
              "vwPCHAAuLnTeZTzxgWLziGEAAAAaAZ/0dEf/AOV7oQ/JuLPZGG5SWKWOBsUfXs0AAAAiAZ/2akf/\n",
              "AOV7oRSFpnURcOUAVqG2PfoDSnasRzXsn0i78QAAADxBm/tJqEFsmUwIX//+jLAALbjtsA1fUeCW\n",
              "5RwB0RYb1cU8VKNLjsBTy4Ka2S69O0OWQVExvnC7uRx8ELEAAAArQZ4ZRRUsI/8A3Nxg01iXMVKk\n",
              "WZjkYsPVaMALU6Nh1udflVaIwOFKGtt9gAAAABoBnjh0R/8A5XuhD8m4s9f6xQWZlS33JpxYSwAA\n",
              "ABgBnjpqR/8A5XuhFIWmdPrQlQWeuTStYvAAAAA9QZo9SahBbJlMFEwv//6MsAAskTZ8AG9lGOut\n",
              "G0bWpD03GmelVT1e03d+z/toM4vY1TuZWOULHN7MPBiFgQAAAB8BnlxqR/8A5XuhFl65nR+55+wp\n",
              "GWdADatKLD3MABHxAAAAWkGaQEnhClJlMCF//oywAFky3YOjuKRKW0ve8lRAMC6P3O7nPYlqpm7B\n",
              "p4I7Ol3JaUL8sH5eVl9HlgvT9f0Go7MnLUn78Kko+bpYBf7V8kcZfnkdnz361pmELAAAACRBnn5F\n",
              "NEwj/wBkr6LN80drjkpKPNS9kUALeNiv0TXE4Nd4bkAAAAAiAZ6fakf/AOV7oRSFslBQmVU6zABL\n",
              "T4mpxxwI2ZqFyL7uxwAAAGhBmoRJqEFomUwIX//+jLAAW2oKgGZsB+mlCXBhUwVUk7dnsUaEIuzA\n",
              "eylK6klwI1NnTOoOtc03dznMZT8LZjl4w3K3KTiLjc4T7StlcRgMOXXSLjG1fvFiS+N5zekAYoD6\n",
              "8ZaAsciNCAAAAC1BnqJFESwj/wDc3GDTWJcxUqZfGuWnZrSsrMSAKgBwXg/ZSrROJhhYF5dZzcEA\n",
              "AAAbAZ7BdEf/AOV7oQ/J1AZO6lfVrPvTEEk01d84AAAAIQGew2pH/wDle6EUhbP4SKIAjIrNhfeS\n",
              "Fgey/AAQVNR5IQAAAG1BmsdJqEFsmUwIV//+OEAAsN5JoB5sZjdxGOUsl0igihJTigpfs+shDY8o\n",
              "f4fy9PDunxRadSVwS7npQEtLM1nHBV00QD2vW6biijw+SUbrNKGVVcGnDyEG8f82Z8mWuP4sjTcr\n",
              "gXaP+ZwnNBCxAAAAGkGe5UUVLCP/AGS3i2nZDtZ3bXFAVRgYcKVpAAAAHQGfBmpH/wDle6EUhaZ1\n",
              "DdjkOABOLzYcq0+yKKaBAAAAOEGbCUmoQWyZTBRMK//+OEAArF5JoBY/6y+2EJve9SSm+siNj+SF\n",
              "UkLB4/7vKCENnqfD6bfdngiYAAAAGwGfKGpH/wDle6EWXrmdH7nn7Ch0PKIA8uFS4AAAACFBmypJ\n",
              "4QpSZTAhX/44QACnt1mgARZgKGxzpL9EO2nDh10AAAA9QZtLSeEOiZTAhf/+jLAAK3ZN+bADZdmM\n",
              "eyAX6jiuYlzKntn9Uge3/mHwL6wFLKNrQOKe5dS1v7PpEjRiqgAAACVBm2xJ4Q8mUwIZ//6eEAAr\n",
              "M79YoFQAtlGo5gbR9+DA87UmScJeAAAAjkGbkEnhDyZTAhn//p4QAFPxegALAa74Edj7o3TM/Use\n",
              "A9XdUnygNK9/StWpM95WbWIbIPOVZFNmWrc0qk+XGn+Ub+RetVx1W6ooVxEJdlx+g33ClwA4rhMO\n",
              "vwCVfJWsTtJ3fGmLJ01BxCHc22kn4k4oQ1dU/UIPDntRqsQUzVWhziy0HdH8Jpmm5DlIRtUAAAAt\n",
              "QZ+uRRE8I/8A3Nxglg5WCQUU4DXoWvhOdM+3YAODYVqbZU7WQ0LL2cgbl795AAAAHwGfzXRH/wDl\n",
              "e6EPyc2f17tUQRycQARanqfxuSsVxzMAAAAZAZ/Pakf/AOV7oRSFsPBXAkCMw8KwSUv88AAAAF5B\n",
              "m9RJqEFomUwIZ//+nhAAU/G44A4di3WfszBXRhGNE0aA6lHmi+eVuvvBJG0hZE1JVJ4WPDfPLonF\n",
              "7xEUBWjSKJxKapTlUy7BKRQhJwpOoIABJvj2YD0RIhtPaoOmAAAAJ0Gf8kURLCP/ANzcYNNYlzFS\n",
              "pdHpAPgAfsAcozzJNU5YhWeMBkjl5wAAAB4BnhF0R/8A5XuhD8nLZ0wAP0q0ItnsUcx9KyVkn8AA\n",
              "AAAWAZ4Takf/AOV7oRSFr3kVnNQ1WYp0QAAAAD5BmhhJqEFsmUwIZ//+nhAAiqQOBrPpAHLVWk4L\n",
              "ffWpYBSJR8ZnK4bveU/Kia4NlQz1UfIjmzpVRUVFqo4OmQAAABlBnjZFFSwj/wDc3GDTWJcxUqRG\n",
              "oEcD4ZfJAAAAEQGeVXRH/wDle6EPybizTJCxAAAAEQGeV2pH/wDle6EUhaZ07iQtAAAAPEGaXEmo\n",
              "QWyZTAhn//6eEABT8bjgEm1nhtzBmyY2Dn6fLecxFvyKe6JIuoOJ7/MP7//hqthzvVHvRc+CLgAA\n",
              "ABlBnnpFFSwj/wDc3GDTWJcxUqRZlMC/Y9axAAAAEwGemXRH/wDle6EPybizTKgf6mAAAAAVAZ6b\n",
              "akf/AOV7oRSFrkCOy+KPhyPRAAAAaEGagEmoQWyZTAhf//6MsABScp0ACn1bUFHaunTWJN0QXlcY\n",
              "NABd1Ae6VmOJbPMX3Z4lPxnmSdekLF/LN6HZoiq3Lp0OoqegYMBfyS/7ENhFd0WdVq2f77bEArxt\n",
              "zqr+zdTxTyglqJGBAAAAJEGevkUVLCP/ANzcYNNYlzFSpS2CxsALeLr7zkAaw2lIHmm3MAAAABwB\n",
              "nt10R/8A5XuhD8nIrrqAFuCusHfg6DX6jnCAAAAAHAGe32pH/wDle6EUha3w4UmmAB+wcjTRdR4h\n",
              "CYEAAAA4QZrESahBbJlMCF///oywAFJx60ACgpx5cub4JyO7fBGaHEs40ceBsHMvA9MF0sB3wsrc\n",
              "L59ZhFwAAAAnQZ7iRRUsI/8A3Nxg01iXMVKlTA1QAmRpHal/52YewHoYCSgE1Pc/AAAAEwGfAXRH\n",
              "/wDle6EPychxOKIpovQAAAATAZ8Dakf/AOV7oRSFrOBnFGKVQQAAADhBmwdJqEFsmUwIX//+jLAA\n",
              "UnHbYApmO2dJjVtn0g4LDxc76zJLrc+4pxS1lvV3uKEb4ruKOt5BWwAAACNBnyVFFSwj/wBkt4tp\n",
              "2Q7XMN4AA8KinauNZ2GBak1QMUfDkQAAABwBn0ZqR/8A5XuhFIWuMZggBOMjvJfs94HE76dBAAAA\n",
              "NUGbSUmoQWyZTBRML//+jLAAUlodWJ3CywA5vFs31vS6YXIlwv6koHGil5tNOMkN3ccHhgz4AAAA\n",
              "FgGfaGpH/wDle6EWXrmdH7nwXQRgGVAAAAAuQZtrSeEKUmUwUsM//p4QAFILzRWAACwS624RjuDd\n",
              "SIlWvsJNHKtubRtCARAxYQAAABUBn4pqR/8A5XufMtFQtpCB7WwKHtAAAAA/QZuPSeEOiZTAhn/+\n",
              "nhAAUgn992AHBoObckq8yNiWawnrbkKl7fyYFoDgBGSVyy/L3EJ8vScpQMyCbMx41aGNAAAAJEGf\n",
              "rUUVPCP/ANzcYJYOVgkFFNy6hAAJarDXrqtb7YhgqC1tQQAAABwBn8x0R/8A5XuhD8nIeaHABOsG\n",
              "nYKNA+lUMRmZAAAAFQGfzmpH/wDle6EUhfgEQsaN451RfwAAAFxBm9NJqEFomUwIX//+jLAAoW+P\n",
              "g4pWgM31KEuKCFOidCDRhlWGdSQ9ZkHuO3y/v/oDzE24Grz+Ls7UtdC2oixw6rnjDEvKTtdo41Ba\n",
              "wQmJtFeOTWVfvjgeR/UJWAAAACFBn/FFESwj/wDc3GDTWJczyuh9TGCGUAEqITwB7iCZxiwAAAAe\n",
              "AZ4QdEf/AOV7oQ/KQid+Rk/ox7hwARf8hn8mWMWVAAAAEQGeEmpH/wDle6EUhay4VMpIAAAALUGa\n",
              "F0moQWyZTAhf//6MsACgQu9RxMwAh3k9n+YfeHgS6CMDKuP4YHit834HpAAAAB9BnjVFFSwj/wDc\n",
              "3GDTWJczu0334jt0QAjQdfRzzVYhAAAAFAGeVHRH/wDle6EPykFf20ZMMYyAAAAAEwGeVmpH/wDl\n",
              "e6EUhay4VNiBwvUAAAA0QZpbSahBbJlMCF///oywAKCqjtk34AX8vkzO6D6FwSxBhYxFkXFAew06\n",
              "7XH0Tib7z8QBoQAAABlBnnlFFSwj/wDc3GDTWJczyuh9V2iSnQnAAAAADwGemHRH/wDle6EPyVQK\n",
              "mQAAABIBnppqR/8A5XuhFIXsg8TRg+YAAAAuQZqfSahBbJlMCFf//jhAAmxQwXfEGgAcbIyLrbTr\n",
              "QCl6yw3LYS+Ll+dTfDIWcQAAAClBnr1FFSwj/wDc3GDTWJczagMxsqgAcRIBFVDLuIg7/kUbCCMa\n",
              "L4o2gQAAABcBntx0R/8A5XuhD8o+5MOPQAK+ToiqkwAAABcBnt5qR/8A5XuhFIXrx4dco/eT8Ens\n",
              "gAAAACBBmsJJqEFsmUwIR//94QAEtoezcwIAWtz9wtUpfT8HTQAAAB1BnuBFFSwj/wBkt4tp2Q7X\n",
              "B5UYAS16+5rhmJ5D7gAAABEBnwFqR/8A5XuhFIWsuFTKSQAAABtBmwNJqEFsmUwI//yEABJPVewA\n",
              "Tt0Xi+75Aj4AAAeWbW9vdgAAAGxtdmhkAAAAAAAAAAAAAAAAAAAD6AAAB9AAAQAAAQAAAAAAAAAA\n",
              "AAAAAAEAAAAAAAAAAAAAAAAAAAABAAAAAAAAAAAAAAAAAABAAAAAAAAAAAAAAAAAAAAAAAAAAAAA\n",
              "AAAAAAAAAAAAAgAABsB0cmFrAAAAXHRraGQAAAADAAAAAAAAAAAAAAABAAAAAAAAB9AAAAAAAAAA\n",
              "AAAAAAAAAAAAAAEAAAAAAAAAAAAAAAAAAAABAAAAAAAAAAAAAAAAAABAAAAAAbAAAAEgAAAAAAAk\n",
              "ZWR0cwAAABxlbHN0AAAAAAAAAAEAAAfQAAACAAABAAAAAAY4bWRpYQAAACBtZGhkAAAAAAAAAAAA\n",
              "AAAAAAAyAAAAZABVxAAAAAAALWhkbHIAAAAAAAAAAHZpZGUAAAAAAAAAAAAAAABWaWRlb0hhbmRs\n",
              "ZXIAAAAF421pbmYAAAAUdm1oZAAAAAEAAAAAAAAAAAAAACRkaW5mAAAAHGRyZWYAAAAAAAAAAQAA\n",
              "AAx1cmwgAAAAAQAABaNzdGJsAAAAs3N0c2QAAAAAAAAAAQAAAKNhdmMxAAAAAAAAAAEAAAAAAAAA\n",
              "AAAAAAAAAAAAAbABIABIAAAASAAAAAAAAAABAAAAAAAAAAAAAAAAAAAAAAAAAAAAAAAAAAAAAAAA\n",
              "AAAAGP//AAAAMWF2Y0MBZAAe/+EAGGdkAB6s2UGwloQAAAMABAAAAwGQPFi2WAEABmjr48siwAAA\n",
              "ABx1dWlka2hA8l8kT8W6OaUbzwMj8wAAAAAAAAAYc3R0cwAAAAAAAAABAAAAZAAAAQAAAAAUc3Rz\n",
              "cwAAAAAAAAABAAAAAQAAAuhjdHRzAAAAAAAAAFsAAAABAAACAAAAAAEAAAQAAAAAAgAAAQAAAAAB\n",
              "AAAFAAAAAAEAAAIAAAAAAQAAAAAAAAABAAABAAAAAAIAAAIAAAAAAQAAAwAAAAABAAABAAAAAAEA\n",
              "AAMAAAAAAQAAAQAAAAACAAACAAAAAAEAAAUAAAAAAQAAAgAAAAABAAAAAAAAAAEAAAEAAAAAAQAA\n",
              "BQAAAAABAAACAAAAAAEAAAAAAAAAAQAAAQAAAAABAAAFAAAAAAEAAAIAAAAAAQAAAAAAAAABAAAB\n",
              "AAAAAAEAAAMAAAAAAQAAAQAAAAABAAAEAAAAAAIAAAEAAAAAAQAABQAAAAABAAACAAAAAAEAAAAA\n",
              "AAAAAQAAAQAAAAABAAAEAAAAAAIAAAEAAAAAAQAAAwAAAAABAAABAAAAAAMAAAIAAAAAAQAABQAA\n",
              "AAABAAACAAAAAAEAAAAAAAAAAQAAAQAAAAABAAAFAAAAAAEAAAIAAAAAAQAAAAAAAAABAAABAAAA\n",
              "AAEAAAUAAAAAAQAAAgAAAAABAAAAAAAAAAEAAAEAAAAAAQAABQAAAAABAAACAAAAAAEAAAAAAAAA\n",
              "AQAAAQAAAAABAAAFAAAAAAEAAAIAAAAAAQAAAAAAAAABAAABAAAAAAEAAAUAAAAAAQAAAgAAAAAB\n",
              "AAAAAAAAAAEAAAEAAAAAAQAABAAAAAACAAABAAAAAAEAAAMAAAAAAQAAAQAAAAABAAADAAAAAAEA\n",
              "AAEAAAAAAQAABQAAAAABAAACAAAAAAEAAAAAAAAAAQAAAQAAAAABAAAFAAAAAAEAAAIAAAAAAQAA\n",
              "AAAAAAABAAABAAAAAAEAAAUAAAAAAQAAAgAAAAABAAAAAAAAAAEAAAEAAAAAAQAABQAAAAABAAAC\n",
              "AAAAAAEAAAAAAAAAAQAAAQAAAAABAAAFAAAAAAEAAAIAAAAAAQAAAAAAAAABAAABAAAAAAEAAAQA\n",
              "AAAAAgAAAQAAAAABAAACAAAAABxzdHNjAAAAAAAAAAEAAAABAAAAZAAAAAEAAAGkc3RzegAAAAAA\n",
              "AAAAAAAAZAAANPkAAANXAAAAYAAAAD0AAAFYAAAASgAAADQAAAAyAAAAdgAAAEUAAACUAAAAIgAA\n",
              "AI4AAAAjAAAARAAAAFAAAACjAAAAJwAAACMAAAAlAAAAqwAAACsAAAAeAAAAJgAAAEAAAAAvAAAA\n",
              "HgAAABwAAABBAAAAIwAAAF4AAAAoAAAAJgAAAGwAAAAxAAAAHwAAACUAAABxAAAAHgAAACEAAAA8\n",
              "AAAAHwAAACUAAABBAAAAKQAAAJIAAAAxAAAAIwAAAB0AAABiAAAAKwAAACIAAAAaAAAAQgAAAB0A\n",
              "AAAVAAAAFQAAAEAAAAAdAAAAFwAAABkAAABsAAAAKAAAACAAAAAgAAAAPAAAACsAAAAXAAAAFwAA\n",
              "ADwAAAAnAAAAIAAAADkAAAAaAAAAMgAAABkAAABDAAAAKAAAACAAAAAZAAAAYAAAACUAAAAiAAAA\n",
              "FQAAADEAAAAjAAAAGAAAABcAAAA4AAAAHQAAABMAAAAWAAAAMgAAAC0AAAAbAAAAGwAAACQAAAAh\n",
              "AAAAFQAAAB8AAAAUc3RjbwAAAAAAAAABAAAALAAAAGJ1ZHRhAAAAWm1ldGEAAAAAAAAAIWhkbHIA\n",
              "AAAAAAAAAG1kaXJhcHBsAAAAAAAAAAAAAAAALWlsc3QAAAAlqXRvbwAAAB1kYXRhAAAAAQAAAABM\n",
              "YXZmNTcuODMuMTAw\n",
              "\">\n",
              "  Your browser does not support the video tag.\n",
              "</video>"
            ]
          },
          "metadata": {
            "tags": []
          }
        }
      ]
    }
  ]
}