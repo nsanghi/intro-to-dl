{
  "nbformat": 4,
  "nbformat_minor": 0,
  "metadata": {
    "kernelspec": {
      "display_name": "Python 3",
      "language": "python",
      "name": "python3"
    },
    "language_info": {
      "codemirror_mode": {
        "name": "ipython",
        "version": 3
      },
      "file_extension": ".py",
      "mimetype": "text/x-python",
      "name": "python",
      "nbconvert_exporter": "python",
      "pygments_lexer": "ipython3",
      "version": "3.5.2"
    },
    "colab": {
      "name": "Tensorflow-task.ipynb",
      "provenance": [],
      "include_colab_link": true
    }
  },
  "cells": [
    {
      "cell_type": "markdown",
      "metadata": {
        "id": "view-in-github",
        "colab_type": "text"
      },
      "source": [
        "<a href=\"https://colab.research.google.com/github/nsanghi/intro-to-dl/blob/solutions/week2/Tensorflow-task_solution.ipynb\" target=\"_parent\"><img src=\"https://colab.research.google.com/assets/colab-badge.svg\" alt=\"Open In Colab\"/></a>"
      ]
    },
    {
      "cell_type": "markdown",
      "metadata": {
        "id": "uHvkVDCCa5YY",
        "colab_type": "text"
      },
      "source": [
        "# Going deeper with Tensorflow\n",
        "\n",
        "In this video, we're going to study the tools you'll use to build deep learning models. Namely, [Tensorflow](https://www.tensorflow.org/).\n",
        "\n",
        "If you're running this notebook outside the course environment, you'll need to install tensorflow:\n",
        "* `pip install tensorflow` should install cpu-only TF on Linux & Mac OS\n",
        "* If you want GPU support from offset, see [TF install page](https://www.tensorflow.org/install/)"
      ]
    },
    {
      "cell_type": "code",
      "metadata": {
        "id": "6xNvrEUXb1D2",
        "colab_type": "code",
        "outputId": "0daccb5e-6703-483a-f667-a902e1c999ec",
        "colab": {
          "base_uri": "https://localhost:8080/",
          "height": 348
        }
      },
      "source": [
        "! shred -u setup_google_colab.py\n",
        "! wget https://raw.githubusercontent.com/nsanghi/intro-to-dl/solutions/setup_google_colab.py -O setup_google_colab.py\n",
        "import setup_google_colab\n",
        "# please, uncomment the week you're working on\n",
        "# setup_google_colab.setup_week1()\n",
        "setup_google_colab.setup_week2()\n",
        "# setup_google_colab.setup_week2_honor()\n",
        "# setup_google_colab.setup_week3()\n",
        "# setup_google_colab.setup_week4()\n",
        "# setup_google_colab.setup_week5()\n",
        "# setup_google_colab.setup_week6()"
      ],
      "execution_count": 1,
      "outputs": [
        {
          "output_type": "stream",
          "text": [
            "shred: setup_google_colab.py: failed to open for writing: No such file or directory\n",
            "--2020-01-19 11:20:53--  https://raw.githubusercontent.com/nsanghi/intro-to-dl/solutions/setup_google_colab.py\n",
            "Resolving raw.githubusercontent.com (raw.githubusercontent.com)... 151.101.0.133, 151.101.64.133, 151.101.128.133, ...\n",
            "Connecting to raw.githubusercontent.com (raw.githubusercontent.com)|151.101.0.133|:443... connected.\n",
            "HTTP request sent, awaiting response... 200 OK\n",
            "Length: 3680 (3.6K) [text/plain]\n",
            "Saving to: ‘setup_google_colab.py’\n",
            "\n",
            "setup_google_colab. 100%[===================>]   3.59K  --.-KB/s    in 0s      \n",
            "\n",
            "2020-01-19 11:20:53 (82.0 MB/s) - ‘setup_google_colab.py’ saved [3680/3680]\n",
            "\n",
            "**************************************************\n",
            "inception_v3_weights_tf_dim_ordering_tf_kernels_notop.h5\n",
            "**************************************************\n",
            "cifar-10-batches-py.tar.gz\n",
            "**************************************************\n",
            "mnist.npz\n"
          ],
          "name": "stdout"
        }
      ]
    },
    {
      "cell_type": "code",
      "metadata": {
        "id": "pa7bdALSa5Yb",
        "colab_type": "code",
        "colab": {}
      },
      "source": [
        "import sys\n",
        "sys.path.append(\"..\")\n",
        "import grading"
      ],
      "execution_count": 0,
      "outputs": []
    },
    {
      "cell_type": "markdown",
      "metadata": {
        "id": "4Vb1VAX0a5Ye",
        "colab_type": "text"
      },
      "source": [
        "# Visualization"
      ]
    },
    {
      "cell_type": "markdown",
      "metadata": {
        "id": "1jN8lqH8a5Yf",
        "colab_type": "text"
      },
      "source": [
        "Plase note that if you are running on the Coursera platform, you won't be able to access the tensorboard instance due to the network setup there. If you run the notebook locally, you should be able to access TensorBoard on http://127.0.0.1:7007/"
      ]
    },
    {
      "cell_type": "code",
      "metadata": {
        "id": "-zdKpfY4a5Yg",
        "colab_type": "code",
        "outputId": "26a6ebd3-53d1-4884-9742-0c361eab7ea0",
        "colab": {
          "base_uri": "https://localhost:8080/",
          "height": 35
        }
      },
      "source": [
        "! killall tensorboard\n",
        "import os\n",
        "os.system(\"tensorboard --logdir=/tmp/tboard --port=7007 &\");"
      ],
      "execution_count": 3,
      "outputs": [
        {
          "output_type": "stream",
          "text": [
            "/bin/bash: killall: command not found\n"
          ],
          "name": "stdout"
        }
      ]
    },
    {
      "cell_type": "code",
      "metadata": {
        "id": "Z6Q4-io9a5Yj",
        "colab_type": "code",
        "colab": {}
      },
      "source": [
        "%tensorflow_version 1.x\n",
        "import tensorflow as tf\n",
        "s = tf.InteractiveSession()"
      ],
      "execution_count": 0,
      "outputs": []
    },
    {
      "cell_type": "markdown",
      "metadata": {
        "id": "eaJfA4Nwa5Yl",
        "colab_type": "text"
      },
      "source": [
        "# Warming up\n",
        "For starters, let's implement a python function that computes the sum of squares of numbers from 0 to N-1."
      ]
    },
    {
      "cell_type": "code",
      "metadata": {
        "id": "mUaoSg2Ja5Ym",
        "colab_type": "code",
        "colab": {}
      },
      "source": [
        "import numpy as np\n",
        "def sum_sin(N):\n",
        "    return np.sum(np.arange(N)**2)"
      ],
      "execution_count": 0,
      "outputs": []
    },
    {
      "cell_type": "code",
      "metadata": {
        "id": "oKxNELmna5Yp",
        "colab_type": "code",
        "outputId": "98f62dd9-f1f0-4658-fbf0-448d96e67673",
        "colab": {
          "base_uri": "https://localhost:8080/",
          "height": 69
        }
      },
      "source": [
        "%%time\n",
        "sum_sin(10**8)"
      ],
      "execution_count": 6,
      "outputs": [
        {
          "output_type": "stream",
          "text": [
            "CPU times: user 316 ms, sys: 726 ms, total: 1.04 s\n",
            "Wall time: 1.07 s\n"
          ],
          "name": "stdout"
        },
        {
          "output_type": "execute_result",
          "data": {
            "text/plain": [
              "662921401752298880"
            ]
          },
          "metadata": {
            "tags": []
          },
          "execution_count": 6
        }
      ]
    },
    {
      "cell_type": "markdown",
      "metadata": {
        "id": "zFed8WRba5Yt",
        "colab_type": "text"
      },
      "source": [
        "# Tensoflow teaser\n",
        "\n",
        "Doing the very same thing"
      ]
    },
    {
      "cell_type": "code",
      "metadata": {
        "id": "2eo2ln7Ya5Yu",
        "colab_type": "code",
        "colab": {}
      },
      "source": [
        "# An integer parameter\n",
        "N = tf.placeholder('int64', name=\"input_to_your_function\")\n",
        "\n",
        "# A recipe on how to produce the same result\n",
        "result = tf.reduce_sum(tf.range(N)**2)"
      ],
      "execution_count": 0,
      "outputs": []
    },
    {
      "cell_type": "code",
      "metadata": {
        "id": "PcI4McAga5Yw",
        "colab_type": "code",
        "outputId": "d2ea028d-ac80-46ff-a135-07fca75bebff",
        "colab": {
          "base_uri": "https://localhost:8080/",
          "height": 35
        }
      },
      "source": [
        "result"
      ],
      "execution_count": 8,
      "outputs": [
        {
          "output_type": "execute_result",
          "data": {
            "text/plain": [
              "<tf.Tensor 'Sum:0' shape=() dtype=int64>"
            ]
          },
          "metadata": {
            "tags": []
          },
          "execution_count": 8
        }
      ]
    },
    {
      "cell_type": "code",
      "metadata": {
        "id": "lUqyhd5La5Yy",
        "colab_type": "code",
        "outputId": "5d0e1563-40d0-432c-c3b6-87e6add2e4ac",
        "colab": {
          "base_uri": "https://localhost:8080/",
          "height": 69
        }
      },
      "source": [
        "%%time\n",
        "result.eval({N: 10**8})"
      ],
      "execution_count": 9,
      "outputs": [
        {
          "output_type": "stream",
          "text": [
            "CPU times: user 686 ms, sys: 841 µs, total: 687 ms\n",
            "Wall time: 468 ms\n"
          ],
          "name": "stdout"
        },
        {
          "output_type": "execute_result",
          "data": {
            "text/plain": [
              "662921401752298880"
            ]
          },
          "metadata": {
            "tags": []
          },
          "execution_count": 9
        }
      ]
    },
    {
      "cell_type": "code",
      "metadata": {
        "id": "bcMKMPL8a5Y0",
        "colab_type": "code",
        "colab": {}
      },
      "source": [
        "writer = tf.summary.FileWriter(\"/tmp/tboard\", graph=s.graph)"
      ],
      "execution_count": 0,
      "outputs": []
    },
    {
      "cell_type": "markdown",
      "metadata": {
        "id": "GyS-dEBIa5Y3",
        "colab_type": "text"
      },
      "source": [
        "# How does it work?\n",
        "1. Define placeholders where you'll send inputs\n",
        "2. Make symbolic graph: a recipe for mathematical transformation of those placeholders\n",
        "3. Compute outputs of your graph with particular values for each placeholder\n",
        "  * `output.eval({placeholder:value})`\n",
        "  * `s.run(output, {placeholder:value})`\n",
        "\n",
        "So far there are two main entities: \"placeholder\" and \"transformation\"\n",
        "* Both can be numbers, vectors, matrices, tensors, etc.\n",
        "* Both can be int32/64, floats, booleans (uint8) of various size.\n",
        "\n",
        "* You can define new transformations as an arbitrary operation on placeholders and other transformations\n",
        " * `tf.reduce_sum(tf.arange(N)**2)` are 3 sequential transformations of placeholder `N`\n",
        " * There's a tensorflow symbolic version for every numpy function\n",
        "   * `a+b, a/b, a**b, ...` behave just like in numpy\n",
        "   * `np.mean` -> `tf.reduce_mean`\n",
        "   * `np.arange` -> `tf.range`\n",
        "   * `np.cumsum` -> `tf.cumsum`\n",
        "   * If if you can't find the op you need, see the [docs](https://www.tensorflow.org/api_docs/python).\n",
        "   \n",
        "`tf.contrib` has many high-level features, may be worth a look."
      ]
    },
    {
      "cell_type": "code",
      "metadata": {
        "id": "r6WgU5uXa5Y4",
        "colab_type": "code",
        "colab": {}
      },
      "source": [
        "with tf.name_scope(\"Placeholders_examples\"):\n",
        "    # Default placeholder that can be arbitrary float32\n",
        "    # scalar, vertor, matrix, etc.\n",
        "    arbitrary_input = tf.placeholder('float32')\n",
        "\n",
        "    # Input vector of arbitrary length\n",
        "    input_vector = tf.placeholder('float32', shape=(None,))\n",
        "\n",
        "    # Input vector that _must_ have 10 elements and integer type\n",
        "    fixed_vector = tf.placeholder('int32', shape=(10,))\n",
        "\n",
        "    # Matrix of arbitrary n_rows and 15 columns\n",
        "    # (e.g. a minibatch your data table)\n",
        "    input_matrix = tf.placeholder('float32', shape=(None, 15))\n",
        "    \n",
        "    # You can generally use None whenever you don't need a specific shape\n",
        "    input1 = tf.placeholder('float64', shape=(None, 100, None))\n",
        "    input2 = tf.placeholder('int32', shape=(None, None, 3, 224, 224))\n",
        "\n",
        "    # elementwise multiplication\n",
        "    double_the_vector = input_vector*2\n",
        "\n",
        "    # elementwise cosine\n",
        "    elementwise_cosine = tf.cos(input_vector)\n",
        "\n",
        "    # difference between squared vector and vector itself plus one\n",
        "    vector_squares = input_vector**2 - input_vector + 1"
      ],
      "execution_count": 0,
      "outputs": []
    },
    {
      "cell_type": "code",
      "metadata": {
        "id": "TOYWCk3Ha5Y7",
        "colab_type": "code",
        "colab": {}
      },
      "source": [
        "my_vector =  tf.placeholder('float32', shape=(None,), name=\"VECTOR_1\")\n",
        "my_vector2 = tf.placeholder('float32', shape=(None,))\n",
        "my_transformation = my_vector * my_vector2 / (tf.sin(my_vector) + 1)"
      ],
      "execution_count": 0,
      "outputs": []
    },
    {
      "cell_type": "code",
      "metadata": {
        "id": "AlU_4pwXa5Y9",
        "colab_type": "code",
        "outputId": "c2d7c8c9-f9d8-48ba-f8b0-8ba686165a9a",
        "colab": {
          "base_uri": "https://localhost:8080/",
          "height": 35
        }
      },
      "source": [
        "print(my_transformation)"
      ],
      "execution_count": 13,
      "outputs": [
        {
          "output_type": "stream",
          "text": [
            "Tensor(\"truediv:0\", shape=(?,), dtype=float32)\n"
          ],
          "name": "stdout"
        }
      ]
    },
    {
      "cell_type": "code",
      "metadata": {
        "id": "fFx122jga5ZA",
        "colab_type": "code",
        "outputId": "05217cc6-b979-4290-bb59-868d294e2589",
        "colab": {
          "base_uri": "https://localhost:8080/",
          "height": 69
        }
      },
      "source": [
        "dummy = np.arange(5).astype('float32')\n",
        "print(dummy)\n",
        "my_transformation.eval({my_vector:dummy, my_vector2:dummy[::-1]})"
      ],
      "execution_count": 14,
      "outputs": [
        {
          "output_type": "stream",
          "text": [
            "[0. 1. 2. 3. 4.]\n"
          ],
          "name": "stdout"
        },
        {
          "output_type": "execute_result",
          "data": {
            "text/plain": [
              "array([0.       , 1.6291324, 2.0950115, 2.6289961, 0.       ],\n",
              "      dtype=float32)"
            ]
          },
          "metadata": {
            "tags": []
          },
          "execution_count": 14
        }
      ]
    },
    {
      "cell_type": "code",
      "metadata": {
        "id": "0H-iCD2Na5ZC",
        "colab_type": "code",
        "colab": {}
      },
      "source": [
        "writer.add_graph(my_transformation.graph)\n",
        "writer.flush()"
      ],
      "execution_count": 0,
      "outputs": []
    },
    {
      "cell_type": "markdown",
      "metadata": {
        "id": "cNmoH_5Na5ZE",
        "colab_type": "text"
      },
      "source": [
        "TensorBoard allows writing scalars, images, audio, histogram. You can read more on tensorboard usage [here](https://www.tensorflow.org/get_started/graph_viz)."
      ]
    },
    {
      "cell_type": "markdown",
      "metadata": {
        "id": "6GBmS0gda5ZF",
        "colab_type": "text"
      },
      "source": [
        "# Summary\n",
        "* Tensorflow is based on computation graphs\n",
        "* The graphs consist of placehlders and transformations"
      ]
    },
    {
      "cell_type": "markdown",
      "metadata": {
        "id": "JOtWM98ja5ZG",
        "colab_type": "text"
      },
      "source": [
        "# Mean squared error\n",
        "\n",
        "Your assignment is to implement mean squared error in tensorflow."
      ]
    },
    {
      "cell_type": "code",
      "metadata": {
        "id": "u1JP75K1a5ZH",
        "colab_type": "code",
        "colab": {}
      },
      "source": [
        "with tf.name_scope(\"MSE\"):\n",
        "    y_true = tf.placeholder(\"float32\", shape=(None,), name=\"y_true\")\n",
        "    y_predicted = tf.placeholder(\"float32\", shape=(None,), name=\"y_predicted\")\n",
        "    # Your code goes here\n",
        "    # You want to use tf.reduce_mean\n",
        "    # mse = tf.<...>\n",
        "    mse = tf.reduce_mean((y_true-y_predicted)**2)\n",
        "def compute_mse(vector1, vector2):\n",
        "    return mse.eval({y_true: vector1, y_predicted: vector2})"
      ],
      "execution_count": 0,
      "outputs": []
    },
    {
      "cell_type": "code",
      "metadata": {
        "id": "hNe_DomJa5ZK",
        "colab_type": "code",
        "colab": {}
      },
      "source": [
        "writer.add_graph(mse.graph)\n",
        "writer.flush()"
      ],
      "execution_count": 0,
      "outputs": []
    },
    {
      "cell_type": "markdown",
      "metadata": {
        "id": "Cvvc4_Qya5ZN",
        "colab_type": "text"
      },
      "source": [
        "Tests and result submission. Please use the credentials obtained from the Coursera assignment page."
      ]
    },
    {
      "cell_type": "code",
      "metadata": {
        "id": "60Ku3H1Qa5ZN",
        "colab_type": "code",
        "colab": {}
      },
      "source": [
        "import submit"
      ],
      "execution_count": 0,
      "outputs": []
    },
    {
      "cell_type": "code",
      "metadata": {
        "id": "bq989XRea5ZQ",
        "colab_type": "code",
        "outputId": "d1a36702-de79-4033-f5c2-48cc49bd08d0",
        "colab": {
          "base_uri": "https://localhost:8080/",
          "height": 35
        }
      },
      "source": [
        "submit.submit_mse(compute_mse, 'nimish.sanghi@gmail.com', 'F7ZZbiJj9aXfO5CR')"
      ],
      "execution_count": 21,
      "outputs": [
        {
          "output_type": "stream",
          "text": [
            "Submitted to Coursera platform. See results on assignment page!\n"
          ],
          "name": "stdout"
        }
      ]
    },
    {
      "cell_type": "markdown",
      "metadata": {
        "id": "Dk0mT7p6a5ZU",
        "colab_type": "text"
      },
      "source": [
        "# Variables\n",
        "\n",
        "The inputs and transformations have no value outside function call. This isn't too comfortable if you want your model to have parameters (e.g. network weights) that are always present, but can change their value over time.\n",
        "\n",
        "Tensorflow solves this with `tf.Variable` objects.\n",
        "* You can assign variable a value at any time in your graph\n",
        "* Unlike placeholders, there's no need to explicitly pass values to variables when `s.run(...)`-ing\n",
        "* You can use variables the same way you use transformations \n",
        " "
      ]
    },
    {
      "cell_type": "code",
      "metadata": {
        "id": "47gD4OUNa5ZW",
        "colab_type": "code",
        "colab": {}
      },
      "source": [
        "# Creating a shared variable\n",
        "shared_vector_1 = tf.Variable(initial_value=np.ones(5),\n",
        "                              name=\"example_variable\")"
      ],
      "execution_count": 0,
      "outputs": []
    },
    {
      "cell_type": "code",
      "metadata": {
        "id": "3935f9A-a5ZY",
        "colab_type": "code",
        "outputId": "31fc9cc6-235c-4c5b-b77f-680a0c586753",
        "colab": {
          "base_uri": "https://localhost:8080/",
          "height": 35
        }
      },
      "source": [
        "# Initialize variable(s) with initial values\n",
        "s.run(tf.global_variables_initializer())\n",
        "\n",
        "# Evaluating shared variable (outside symbolicd graph)\n",
        "print(\"Initial value\", s.run(shared_vector_1))\n",
        "\n",
        "# Within symbolic graph you use them just\n",
        "# as any other inout or transformation, not \"get value\" needed"
      ],
      "execution_count": 23,
      "outputs": [
        {
          "output_type": "stream",
          "text": [
            "Initial value [1. 1. 1. 1. 1.]\n"
          ],
          "name": "stdout"
        }
      ]
    },
    {
      "cell_type": "code",
      "metadata": {
        "id": "xic3GXQea5Za",
        "colab_type": "code",
        "outputId": "56aa6274-a86f-4452-83dc-2804f68f9953",
        "colab": {
          "base_uri": "https://localhost:8080/",
          "height": 35
        }
      },
      "source": [
        "# Setting a new value\n",
        "s.run(shared_vector_1.assign(np.arange(5)))\n",
        "\n",
        "# Getting that new value\n",
        "print(\"New value\", s.run(shared_vector_1))"
      ],
      "execution_count": 24,
      "outputs": [
        {
          "output_type": "stream",
          "text": [
            "New value [0. 1. 2. 3. 4.]\n"
          ],
          "name": "stdout"
        }
      ]
    },
    {
      "cell_type": "markdown",
      "metadata": {
        "id": "CPAmVMcma5Zd",
        "colab_type": "text"
      },
      "source": [
        "# tf.gradients - why graphs matter\n",
        "* Tensorflow can compute derivatives and gradients automatically using the computation graph\n",
        "* True to its name it can manage matrix derivatives\n",
        "* Gradients are computed as a product of elementary derivatives via the chain rule:\n",
        "\n",
        "$$ {\\partial f(g(x)) \\over \\partial x} = {\\partial f(g(x)) \\over \\partial g(x)}\\cdot {\\partial g(x) \\over \\partial x} $$\n",
        "\n",
        "It can get you the derivative of any graph as long as it knows how to differentiate elementary operations"
      ]
    },
    {
      "cell_type": "code",
      "metadata": {
        "id": "CGoxErNba5Ze",
        "colab_type": "code",
        "colab": {
          "base_uri": "https://localhost:8080/",
          "height": 89
        },
        "outputId": "1eeabf38-dcd0-4147-8c84-8d99e460319d"
      },
      "source": [
        "my_scalar = tf.placeholder('float32')\n",
        "\n",
        "scalar_squared = my_scalar**2\n",
        "\n",
        "# A derivative of scalar_squared by my_scalar\n",
        "derivative = tf.gradients(scalar_squared, [my_scalar, ])"
      ],
      "execution_count": 25,
      "outputs": [
        {
          "output_type": "stream",
          "text": [
            "WARNING:tensorflow:From /usr/local/lib/python3.6/dist-packages/tensorflow_core/python/ops/math_grad.py:1375: where (from tensorflow.python.ops.array_ops) is deprecated and will be removed in a future version.\n",
            "Instructions for updating:\n",
            "Use tf.where in 2.0, which has the same broadcast rule as np.where\n"
          ],
          "name": "stdout"
        }
      ]
    },
    {
      "cell_type": "code",
      "metadata": {
        "id": "PCeosKjIa5Zg",
        "colab_type": "code",
        "outputId": "1d44b7ab-7119-49f8-9995-6a988374c517",
        "colab": {
          "base_uri": "https://localhost:8080/",
          "height": 35
        }
      },
      "source": [
        "derivative"
      ],
      "execution_count": 26,
      "outputs": [
        {
          "output_type": "execute_result",
          "data": {
            "text/plain": [
              "[<tf.Tensor 'gradients/pow_1_grad/Reshape:0' shape=<unknown> dtype=float32>]"
            ]
          },
          "metadata": {
            "tags": []
          },
          "execution_count": 26
        }
      ]
    },
    {
      "cell_type": "code",
      "metadata": {
        "id": "-zGy8U0Ja5Zk",
        "colab_type": "code",
        "outputId": "ec6f2a6d-c217-4558-f179-1fe491838406",
        "colab": {
          "base_uri": "https://localhost:8080/",
          "height": 265
        }
      },
      "source": [
        "import matplotlib.pyplot as plt\n",
        "%matplotlib inline\n",
        "\n",
        "x = np.linspace(-3, 3)\n",
        "x_squared, x_squared_der = s.run([scalar_squared, derivative[0]],\n",
        "                                 {my_scalar:x})\n",
        "\n",
        "plt.plot(x, x_squared,label=\"$x^2$\")\n",
        "plt.plot(x, x_squared_der, label=r\"$\\frac{dx^2}{dx}$\")\n",
        "plt.legend();"
      ],
      "execution_count": 27,
      "outputs": [
        {
          "output_type": "display_data",
          "data": {
            "image/png": "[encoded data removed]",
            "text/plain": [
              "<Figure size 432x288 with 1 Axes>"
            ]
          },
          "metadata": {
            "tags": []
          }
        }
      ]
    },
    {
      "cell_type": "markdown",
      "metadata": {
        "id": "CUN9hfAAa5Zl",
        "colab_type": "text"
      },
      "source": [
        "# Why that rocks"
      ]
    },
    {
      "cell_type": "code",
      "metadata": {
        "id": "z732Ekxka5Zm",
        "colab_type": "code",
        "colab": {}
      },
      "source": [
        "my_vector = tf.placeholder('float32', [None])\n",
        "# Compute the gradient of the next weird function over my_scalar and my_vector\n",
        "# Warning! Trying to understand the meaning of that function may result in permanent brain damage\n",
        "weird_psychotic_function = tf.reduce_mean(\n",
        "    (my_vector+my_scalar)**(1+tf.nn.moments(my_vector,[0])[1]) + \n",
        "    1./ tf.atan(my_scalar))/(my_scalar**2 + 1) + 0.01*tf.sin(\n",
        "    2*my_scalar**1.5)*(tf.reduce_sum(my_vector)* my_scalar**2\n",
        "                      )*tf.exp((my_scalar-4)**2)/(\n",
        "    1+tf.exp((my_scalar-4)**2))*(1.-(tf.exp(-(my_scalar-4)**2)\n",
        "                                    )/(1+tf.exp(-(my_scalar-4)**2)))**2\n",
        "\n",
        "der_by_scalar = tf.gradients(weird_psychotic_function, my_scalar)\n",
        "der_by_vector = tf.gradients(weird_psychotic_function, my_vector)"
      ],
      "execution_count": 0,
      "outputs": []
    },
    {
      "cell_type": "code",
      "metadata": {
        "id": "5vXmNE9Qa5Zo",
        "colab_type": "code",
        "outputId": "bc52ee7f-966a-4ccd-abd8-82bce9d9d3dc",
        "colab": {
          "base_uri": "https://localhost:8080/",
          "height": 265
        }
      },
      "source": [
        "# Plotting the derivative\n",
        "scalar_space = np.linspace(1, 7, 100)\n",
        "\n",
        "y = [s.run(weird_psychotic_function, {my_scalar:x, my_vector:[1, 2, 3]})\n",
        "     for x in scalar_space]\n",
        "\n",
        "plt.plot(scalar_space, y, label='function')\n",
        "\n",
        "y_der_by_scalar = [s.run(der_by_scalar,\n",
        "                         {my_scalar:x, my_vector:[1, 2, 3]})\n",
        "                   for x in scalar_space]\n",
        "\n",
        "plt.plot(scalar_space, y_der_by_scalar, label='derivative')\n",
        "plt.grid()\n",
        "plt.legend();"
      ],
      "execution_count": 29,
      "outputs": [
        {
          "output_type": "display_data",
          "data": {
            "image/png": "[encoded data removed]",
            "text/plain": [
              "<Figure size 432x288 with 1 Axes>"
            ]
          },
          "metadata": {
            "tags": []
          }
        }
      ]
    },
    {
      "cell_type": "markdown",
      "metadata": {
        "id": "fU4MZfZOa5Zq",
        "colab_type": "text"
      },
      "source": [
        "# Almost done - optimizers\n",
        "\n",
        "While you can perform gradient descent by hand with automatic grads from above, tensorflow also has some optimization methods implemented for you. Recall momentum & rmsprop?"
      ]
    },
    {
      "cell_type": "code",
      "metadata": {
        "id": "E3zPK6Dqa5Zr",
        "colab_type": "code",
        "colab": {}
      },
      "source": [
        "y_guess = tf.Variable(np.zeros(2, dtype='float32'))\n",
        "y_true = tf.range(1, 3, dtype='float32')\n",
        "loss = tf.reduce_mean((y_guess - y_true + tf.random_normal([2]))**2) \n",
        "#loss = tf.reduce_mean((y_guess - y_true)**2) \n",
        "optimizer = tf.train.MomentumOptimizer(0.01, 0.5).minimize(\n",
        "    loss, var_list=y_guess)"
      ],
      "execution_count": 0,
      "outputs": []
    },
    {
      "cell_type": "code",
      "metadata": {
        "id": "u18_IDkqa5Zt",
        "colab_type": "code",
        "outputId": "4635d877-3a63-4cb4-b9c8-71364441b795",
        "colab": {
          "base_uri": "https://localhost:8080/",
          "height": 269
        }
      },
      "source": [
        "from matplotlib import animation, rc\n",
        "import matplotlib_utils\n",
        "from IPython.display import HTML\n",
        "\n",
        "fig, ax = plt.subplots()\n",
        "y_true_value = s.run(y_true)\n",
        "level_x = np.arange(0, 2, 0.02)\n",
        "level_y = np.arange(0, 3, 0.02)\n",
        "X, Y = np.meshgrid(level_x, level_y)\n",
        "Z = (X - y_true_value[0])**2 + (Y - y_true_value[1])**2\n",
        "ax.set_xlim(-0.02, 2)\n",
        "ax.set_ylim(-0.02, 3)\n",
        "s.run(tf.global_variables_initializer())\n",
        "ax.scatter(*s.run(y_true), c='red')\n",
        "contour = ax.contour(X, Y, Z, 10)\n",
        "ax.clabel(contour, inline=1, fontsize=10)\n",
        "line, = ax.plot([], [], lw=2)\n",
        "\n",
        "def init():\n",
        "    line.set_data([], [])\n",
        "    return (line,)\n",
        "\n",
        "guesses = [s.run(y_guess)]\n",
        "\n",
        "def animate(i):\n",
        "    s.run(optimizer)\n",
        "    guesses.append(s.run(y_guess))\n",
        "    line.set_data(*zip(*guesses))\n",
        "    return (line,)\n",
        "\n",
        "anim = animation.FuncAnimation(fig, animate, init_func=init,\n",
        "                               frames=400, interval=20, blit=True)"
      ],
      "execution_count": 31,
      "outputs": [
        {
          "output_type": "display_data",
          "data": {
            "image/png": "[encoded data removed]",
            "text/plain": [
              "<Figure size 432x288 with 1 Axes>"
            ]
          },
          "metadata": {
            "tags": []
          }
        }
      ]
    },
    {
      "cell_type": "code",
      "metadata": {
        "id": "PelD_vW0a5Zw",
        "colab_type": "code",
        "colab": {}
      },
      "source": [
        "try:\n",
        "    HTML(anim.to_html5_video())\n",
        "# In case the build-in renderers are unaviable, fall back to\n",
        "# a custom one, that doesn't require external libraries\n",
        "except RuntimeError:\n",
        "    anim.save(None, writer=matplotlib_utils.SimpleMovieWriter(0.001))"
      ],
      "execution_count": 0,
      "outputs": []
    },
    {
      "cell_type": "markdown",
      "metadata": {
        "id": "9XW9AXgka5Zy",
        "colab_type": "text"
      },
      "source": [
        "# Logistic regression\n",
        "Your assignment is to implement the logistic regression\n",
        "\n",
        "Plan:\n",
        "* Use a shared variable for weights\n",
        "* Use a matrix placeholder for `X`\n",
        " \n",
        "We shall train on a two-class MNIST dataset\n",
        "* please note that target `y` are `{0,1}` and not `{-1,1}` as in some formulae"
      ]
    },
    {
      "cell_type": "code",
      "metadata": {
        "id": "G2pmRTOpa5Zy",
        "colab_type": "code",
        "outputId": "ee190a80-4d0a-471e-ce71-25aff3e425d3",
        "colab": {
          "base_uri": "https://localhost:8080/",
          "height": 52
        }
      },
      "source": [
        "from sklearn.datasets import load_digits\n",
        "mnist = load_digits(2)\n",
        "\n",
        "X, y = mnist.data, mnist.target\n",
        "\n",
        "print(\"y [shape - %s]:\" % (str(y.shape)), y[:10])\n",
        "print(\"X [shape - %s]:\" % (str(X.shape)))"
      ],
      "execution_count": 34,
      "outputs": [
        {
          "output_type": "stream",
          "text": [
            "y [shape - (360,)]: [0 1 0 1 0 1 0 0 1 1]\n",
            "X [shape - (360, 64)]:\n"
          ],
          "name": "stdout"
        }
      ]
    },
    {
      "cell_type": "code",
      "metadata": {
        "id": "2kQ6aQb7a5Z0",
        "colab_type": "code",
        "outputId": "8e6712d7-3a25-45e1-8770-62af287b7424",
        "colab": {
          "base_uri": "https://localhost:8080/",
          "height": 368
        }
      },
      "source": [
        "print('X:\\n',X[:3,:10])\n",
        "print('y:\\n',y[:10])\n",
        "plt.imshow(X[0].reshape([8,8]));"
      ],
      "execution_count": 35,
      "outputs": [
        {
          "output_type": "stream",
          "text": [
            "X:\n",
            " [[ 0.  0.  5. 13.  9.  1.  0.  0.  0.  0.]\n",
            " [ 0.  0.  0. 12. 13.  5.  0.  0.  0.  0.]\n",
            " [ 0.  0.  1.  9. 15. 11.  0.  0.  0.  0.]]\n",
            "y:\n",
            " [0 1 0 1 0 1 0 0 1 1]\n"
          ],
          "name": "stdout"
        },
        {
          "output_type": "display_data",
          "data": {
            "image/png": "[encoded data removed]",
            "text/plain": [
              "<Figure size 432x288 with 1 Axes>"
            ]
          },
          "metadata": {
            "tags": []
          }
        }
      ]
    },
    {
      "cell_type": "markdown",
      "metadata": {
        "id": "QAkOekwna5Z2",
        "colab_type": "text"
      },
      "source": [
        "It's your turn now!\n",
        "Just a small reminder of the relevant math:\n",
        "\n",
        "$$\n",
        "P(y=1|X) = \\sigma(X \\cdot W + b)\n",
        "$$\n",
        "$$\n",
        "\\text{loss} = -\\log\\left(P\\left(y_\\text{predicted} = 1\\right)\\right)\\cdot y_\\text{true} - \\log\\left(1 - P\\left(y_\\text{predicted} = 1\\right)\\right)\\cdot\\left(1 - y_\\text{true}\\right)\n",
        "$$\n",
        "\n",
        "$\\sigma(x)$ is available via `tf.nn.sigmoid` and matrix multiplication via `tf.matmul`"
      ]
    },
    {
      "cell_type": "code",
      "metadata": {
        "id": "EZqH6jV6a5Z3",
        "colab_type": "code",
        "colab": {}
      },
      "source": [
        "from sklearn.model_selection import train_test_split\n",
        "X_train, X_test, y_train, y_test = train_test_split(\n",
        "    X, y, random_state=42)"
      ],
      "execution_count": 0,
      "outputs": []
    },
    {
      "cell_type": "markdown",
      "metadata": {
        "id": "AW1L4ToDa5Z5",
        "colab_type": "text"
      },
      "source": [
        "__Your code goes here.__ For the training and testing scaffolding to work, please stick to the names in comments."
      ]
    },
    {
      "cell_type": "code",
      "metadata": {
        "id": "xGW8UNcZa5Z5",
        "colab_type": "code",
        "colab": {}
      },
      "source": [
        "# Model parameters - weights and bias\n",
        "# weights = tf.Variable(...) shape should be (X.shape[1], 1)\n",
        "# b = tf.Variable(...)\n",
        "weights = tf.Variable(tf.random_normal(shape=(X.shape[1],1), stddev=0.01, dtype=tf.float32))\n",
        "b = tf.Variable(0.0, dtype=tf.float32)\n",
        "s.run(tf.global_variables_initializer())"
      ],
      "execution_count": 0,
      "outputs": []
    },
    {
      "cell_type": "code",
      "metadata": {
        "id": "v2mdJihQa5Z8",
        "colab_type": "code",
        "colab": {}
      },
      "source": [
        "# Placeholders for the input data\n",
        "# input_X = tf.placeholder(...)\n",
        "# input_y = tf.placeholder(...)\n",
        "input_X = tf.placeholder(tf.float32, (None, None))\n",
        "input_y = tf.placeholder(tf.float32, (None, ))"
      ],
      "execution_count": 0,
      "outputs": []
    },
    {
      "cell_type": "code",
      "metadata": {
        "id": "bJ5szNfDa5Z-",
        "colab_type": "code",
        "colab": {}
      },
      "source": [
        "# The model code\n",
        "\n",
        "# Compute a vector of predictions, resulting shape should be [input_X.shape[0],]\n",
        "# This is 1D, if you have extra dimensions, you can  get rid of them with tf.squeeze .\n",
        "# Don't forget the sigmoid.\n",
        "# predicted_y = <predicted probabilities for input_X>\n",
        "predicted_y = tf.squeeze(tf.sigmoid(tf.matmul(input_X, weights) + b))\n",
        "\n",
        "# Loss. Should be a scalar number - average loss over all the objects\n",
        "# tf.reduce_mean is your friend here\n",
        "# loss = <logistic loss (scalar, mean over sample)>\n",
        "loss = - tf.reduce_mean(input_y * tf.log(predicted_y) + (1-input_y) * tf.log(1-predicted_y))\n",
        "\n",
        "# See above for an example. tf.train.*Optimizer\n",
        "# optimizer = <optimizer that minimizes loss>\n",
        "optimizer = tf.train.MomentumOptimizer(0.01, 0.5).minimize(loss)"
      ],
      "execution_count": 0,
      "outputs": []
    },
    {
      "cell_type": "markdown",
      "metadata": {
        "id": "PUZ-zfX2a5aA",
        "colab_type": "text"
      },
      "source": [
        "A test to help with the debugging"
      ]
    },
    {
      "cell_type": "code",
      "metadata": {
        "id": "YRiqHrp2a5aA",
        "colab_type": "code",
        "colab": {
          "base_uri": "https://localhost:8080/",
          "height": 399
        },
        "outputId": "3c3532b1-fecb-42cb-a4db-6ddf8acf56e3"
      },
      "source": [
        "validation_weights = 1e-3 * np.fromiter(map(lambda x:\n",
        "        s.run(weird_psychotic_function, {my_scalar:x, my_vector:[1, 0.1, 2]}),\n",
        "                                   0.15 * np.arange(1, X.shape[1] + 1)),\n",
        "                                   count=X.shape[1], dtype=np.float32)[:, np.newaxis]\n",
        "# Compute predictions for given weights and bias\n",
        "prediction_validation = s.run(\n",
        "    predicted_y, {\n",
        "    input_X: X,\n",
        "    weights: validation_weights,\n",
        "    b: 1e-1})\n",
        "\n",
        "# Load the reference values for the predictions\n",
        "validation_true_values = np.loadtxt(\"validation_predictons.txt\")\n",
        "\n",
        "assert prediction_validation.shape == (X.shape[0],),\\\n",
        "       \"Predictions must be a 1D array with length equal to the number \" \\\n",
        "       \"of examples in input_X\"\n",
        "assert np.allclose(validation_true_values, prediction_validation)\n",
        "loss_validation = s.run(\n",
        "        loss, {\n",
        "            input_X: X[:100],\n",
        "            input_y: y[-100:],\n",
        "            weights: validation_weights+1.21e-3,\n",
        "            b: -1e-1})\n",
        "assert np.allclose(loss_validation, 0.728689)"
      ],
      "execution_count": 40,
      "outputs": [
        {
          "output_type": "error",
          "ename": "OSError",
          "evalue": "ignored",
          "traceback": [
            "\u001b[0;31m---------------------------------------------------------------------------\u001b[0m",
            "\u001b[0;31mOSError\u001b[0m                                   Traceback (most recent call last)",
            "\u001b[0;32m<ipython-input-40-6741195dd4e5>\u001b[0m in \u001b[0;36m<module>\u001b[0;34m()\u001b[0m\n\u001b[1;32m     11\u001b[0m \u001b[0;34m\u001b[0m\u001b[0m\n\u001b[1;32m     12\u001b[0m \u001b[0;31m# Load the reference values for the predictions\u001b[0m\u001b[0;34m\u001b[0m\u001b[0;34m\u001b[0m\u001b[0;34m\u001b[0m\u001b[0m\n\u001b[0;32m---> 13\u001b[0;31m \u001b[0mvalidation_true_values\u001b[0m \u001b[0;34m=\u001b[0m \u001b[0mnp\u001b[0m\u001b[0;34m.\u001b[0m\u001b[0mloadtxt\u001b[0m\u001b[0;34m(\u001b[0m\u001b[0;34m\"validation_predictons.txt\"\u001b[0m\u001b[0;34m)\u001b[0m\u001b[0;34m\u001b[0m\u001b[0;34m\u001b[0m\u001b[0m\n\u001b[0m\u001b[1;32m     14\u001b[0m \u001b[0;34m\u001b[0m\u001b[0m\n\u001b[1;32m     15\u001b[0m \u001b[0;32massert\u001b[0m \u001b[0mprediction_validation\u001b[0m\u001b[0;34m.\u001b[0m\u001b[0mshape\u001b[0m \u001b[0;34m==\u001b[0m \u001b[0;34m(\u001b[0m\u001b[0mX\u001b[0m\u001b[0;34m.\u001b[0m\u001b[0mshape\u001b[0m\u001b[0;34m[\u001b[0m\u001b[0;36m0\u001b[0m\u001b[0;34m]\u001b[0m\u001b[0;34m,\u001b[0m\u001b[0;34m)\u001b[0m\u001b[0;34m,\u001b[0m       \u001b[0;34m\"Predictions must be a 1D array with length equal to the number \"\u001b[0m        \u001b[0;34m\"of examples in input_X\"\u001b[0m\u001b[0;34m\u001b[0m\u001b[0;34m\u001b[0m\u001b[0m\n",
            "\u001b[0;32m/usr/local/lib/python3.6/dist-packages/numpy/lib/npyio.py\u001b[0m in \u001b[0;36mloadtxt\u001b[0;34m(fname, dtype, comments, delimiter, converters, skiprows, usecols, unpack, ndmin, encoding, max_rows)\u001b[0m\n\u001b[1;32m    966\u001b[0m             \u001b[0mfname\u001b[0m \u001b[0;34m=\u001b[0m \u001b[0mos_fspath\u001b[0m\u001b[0;34m(\u001b[0m\u001b[0mfname\u001b[0m\u001b[0;34m)\u001b[0m\u001b[0;34m\u001b[0m\u001b[0;34m\u001b[0m\u001b[0m\n\u001b[1;32m    967\u001b[0m         \u001b[0;32mif\u001b[0m \u001b[0m_is_string_like\u001b[0m\u001b[0;34m(\u001b[0m\u001b[0mfname\u001b[0m\u001b[0;34m)\u001b[0m\u001b[0;34m:\u001b[0m\u001b[0;34m\u001b[0m\u001b[0;34m\u001b[0m\u001b[0m\n\u001b[0;32m--> 968\u001b[0;31m             \u001b[0mfh\u001b[0m \u001b[0;34m=\u001b[0m \u001b[0mnp\u001b[0m\u001b[0;34m.\u001b[0m\u001b[0mlib\u001b[0m\u001b[0;34m.\u001b[0m\u001b[0m_datasource\u001b[0m\u001b[0;34m.\u001b[0m\u001b[0mopen\u001b[0m\u001b[0;34m(\u001b[0m\u001b[0mfname\u001b[0m\u001b[0;34m,\u001b[0m \u001b[0;34m'rt'\u001b[0m\u001b[0;34m,\u001b[0m \u001b[0mencoding\u001b[0m\u001b[0;34m=\u001b[0m\u001b[0mencoding\u001b[0m\u001b[0;34m)\u001b[0m\u001b[0;34m\u001b[0m\u001b[0;34m\u001b[0m\u001b[0m\n\u001b[0m\u001b[1;32m    969\u001b[0m             \u001b[0mfencoding\u001b[0m \u001b[0;34m=\u001b[0m \u001b[0mgetattr\u001b[0m\u001b[0;34m(\u001b[0m\u001b[0mfh\u001b[0m\u001b[0;34m,\u001b[0m \u001b[0;34m'encoding'\u001b[0m\u001b[0;34m,\u001b[0m \u001b[0;34m'latin1'\u001b[0m\u001b[0;34m)\u001b[0m\u001b[0;34m\u001b[0m\u001b[0;34m\u001b[0m\u001b[0m\n\u001b[1;32m    970\u001b[0m             \u001b[0mfh\u001b[0m \u001b[0;34m=\u001b[0m \u001b[0miter\u001b[0m\u001b[0;34m(\u001b[0m\u001b[0mfh\u001b[0m\u001b[0;34m)\u001b[0m\u001b[0;34m\u001b[0m\u001b[0;34m\u001b[0m\u001b[0m\n",
            "\u001b[0;32m/usr/local/lib/python3.6/dist-packages/numpy/lib/_datasource.py\u001b[0m in \u001b[0;36mopen\u001b[0;34m(path, mode, destpath, encoding, newline)\u001b[0m\n\u001b[1;32m    267\u001b[0m \u001b[0;34m\u001b[0m\u001b[0m\n\u001b[1;32m    268\u001b[0m     \u001b[0mds\u001b[0m \u001b[0;34m=\u001b[0m \u001b[0mDataSource\u001b[0m\u001b[0;34m(\u001b[0m\u001b[0mdestpath\u001b[0m\u001b[0;34m)\u001b[0m\u001b[0;34m\u001b[0m\u001b[0;34m\u001b[0m\u001b[0m\n\u001b[0;32m--> 269\u001b[0;31m     \u001b[0;32mreturn\u001b[0m \u001b[0mds\u001b[0m\u001b[0;34m.\u001b[0m\u001b[0mopen\u001b[0m\u001b[0;34m(\u001b[0m\u001b[0mpath\u001b[0m\u001b[0;34m,\u001b[0m \u001b[0mmode\u001b[0m\u001b[0;34m,\u001b[0m \u001b[0mencoding\u001b[0m\u001b[0;34m=\u001b[0m\u001b[0mencoding\u001b[0m\u001b[0;34m,\u001b[0m \u001b[0mnewline\u001b[0m\u001b[0;34m=\u001b[0m\u001b[0mnewline\u001b[0m\u001b[0;34m)\u001b[0m\u001b[0;34m\u001b[0m\u001b[0;34m\u001b[0m\u001b[0m\n\u001b[0m\u001b[1;32m    270\u001b[0m \u001b[0;34m\u001b[0m\u001b[0m\n\u001b[1;32m    271\u001b[0m \u001b[0;34m\u001b[0m\u001b[0m\n",
            "\u001b[0;32m/usr/local/lib/python3.6/dist-packages/numpy/lib/_datasource.py\u001b[0m in \u001b[0;36mopen\u001b[0;34m(self, path, mode, encoding, newline)\u001b[0m\n\u001b[1;32m    621\u001b[0m                                       encoding=encoding, newline=newline)\n\u001b[1;32m    622\u001b[0m         \u001b[0;32melse\u001b[0m\u001b[0;34m:\u001b[0m\u001b[0;34m\u001b[0m\u001b[0;34m\u001b[0m\u001b[0m\n\u001b[0;32m--> 623\u001b[0;31m             \u001b[0;32mraise\u001b[0m \u001b[0mIOError\u001b[0m\u001b[0;34m(\u001b[0m\u001b[0;34m\"%s not found.\"\u001b[0m \u001b[0;34m%\u001b[0m \u001b[0mpath\u001b[0m\u001b[0;34m)\u001b[0m\u001b[0;34m\u001b[0m\u001b[0;34m\u001b[0m\u001b[0m\n\u001b[0m\u001b[1;32m    624\u001b[0m \u001b[0;34m\u001b[0m\u001b[0m\n\u001b[1;32m    625\u001b[0m \u001b[0;34m\u001b[0m\u001b[0m\n",
            "\u001b[0;31mOSError\u001b[0m: validation_predictons.txt not found."
          ]
        }
      ]
    },
    {
      "cell_type": "code",
      "metadata": {
        "id": "OsV2EDLva5aC",
        "colab_type": "code",
        "colab": {}
      },
      "source": [
        "from sklearn.metrics import roc_auc_score\n",
        "s.run(tf.global_variables_initializer())\n",
        "for i in range(5):\n",
        "    s.run(optimizer, {input_X: X_train, input_y: y_train})\n",
        "    loss_i = s.run(loss, {input_X: X_train, input_y: y_train})\n",
        "    print(\"loss at iter %i:%.4f\" % (i, loss_i))\n",
        "    print(\"train auc:\", roc_auc_score(y_train, s.run(predicted_y, {input_X:X_train})))\n",
        "    print(\"test auc:\", roc_auc_score(y_test, s.run(predicted_y, {input_X:X_test})))"
      ],
      "execution_count": 0,
      "outputs": []
    },
    {
      "cell_type": "markdown",
      "metadata": {
        "id": "rKcLmaAoa5aE",
        "colab_type": "text"
      },
      "source": [
        "### Coursera submission"
      ]
    },
    {
      "cell_type": "code",
      "metadata": {
        "id": "5Y8d27_La5aF",
        "colab_type": "code",
        "colab": {}
      },
      "source": [
        "grade_submitter = grading.Grader(\"BJCiiY8sEeeCnhKCj4fcOA\")"
      ],
      "execution_count": 0,
      "outputs": []
    },
    {
      "cell_type": "code",
      "metadata": {
        "id": "WGmUT2jSa5aI",
        "colab_type": "code",
        "colab": {}
      },
      "source": [
        "test_weights = 1e-3 * np.fromiter(map(lambda x:\n",
        "    s.run(weird_psychotic_function, {my_scalar:x, my_vector:[1, 2, 3]}),\n",
        "                               0.1 * np.arange(1, X.shape[1] + 1)),\n",
        "                               count=X.shape[1], dtype=np.float32)[:, np.newaxis]"
      ],
      "execution_count": 0,
      "outputs": []
    },
    {
      "cell_type": "markdown",
      "metadata": {
        "id": "KnxWX2-aa5aM",
        "colab_type": "text"
      },
      "source": [
        "First, test prediction and loss computation. This part doesn't require a fitted model."
      ]
    },
    {
      "cell_type": "code",
      "metadata": {
        "id": "XlhICMvHa5aN",
        "colab_type": "code",
        "colab": {}
      },
      "source": [
        "prediction_test = s.run(\n",
        "    predicted_y, {\n",
        "    input_X: X,\n",
        "    weights: test_weights,\n",
        "    b: 1e-1})"
      ],
      "execution_count": 0,
      "outputs": []
    },
    {
      "cell_type": "code",
      "metadata": {
        "id": "E9Kx7m9ta5aP",
        "colab_type": "code",
        "colab": {}
      },
      "source": [
        "assert prediction_test.shape == (X.shape[0],),\\\n",
        "       \"Predictions must be a 1D array with length equal to the number \" \\\n",
        "       \"of examples in X_test\""
      ],
      "execution_count": 0,
      "outputs": []
    },
    {
      "cell_type": "code",
      "metadata": {
        "id": "qQhQEXhMa5aR",
        "colab_type": "code",
        "colab": {}
      },
      "source": [
        "grade_submitter.set_answer(\"0ENlN\", prediction_test)"
      ],
      "execution_count": 0,
      "outputs": []
    },
    {
      "cell_type": "code",
      "metadata": {
        "id": "nOhgXnsda5aU",
        "colab_type": "code",
        "colab": {}
      },
      "source": [
        "loss_test = s.run(\n",
        "    loss, {\n",
        "        input_X: X[:100],\n",
        "        input_y: y[-100:],\n",
        "        weights: test_weights+1.21e-3,\n",
        "        b: -1e-1})\n",
        "# Yes, the X/y indices mistmach is intentional"
      ],
      "execution_count": 0,
      "outputs": []
    },
    {
      "cell_type": "code",
      "metadata": {
        "id": "eGWcgERSa5aV",
        "colab_type": "code",
        "colab": {}
      },
      "source": [
        "grade_submitter.set_answer(\"mMVpM\", loss_test)"
      ],
      "execution_count": 0,
      "outputs": []
    },
    {
      "cell_type": "code",
      "metadata": {
        "id": "BZ_JH42Ta5aX",
        "colab_type": "code",
        "colab": {}
      },
      "source": [
        "grade_submitter.set_answer(\"D16Rc\", roc_auc_score(y_test, s.run(predicted_y, {input_X:X_test})))"
      ],
      "execution_count": 0,
      "outputs": []
    },
    {
      "cell_type": "markdown",
      "metadata": {
        "id": "wr95J4g-a5aZ",
        "colab_type": "text"
      },
      "source": [
        "Please use the credentials obtained from the Coursera assignment page."
      ]
    },
    {
      "cell_type": "code",
      "metadata": {
        "id": "T_3JiScwa5aa",
        "colab_type": "code",
        "outputId": "3e20812f-fc5e-45a7-d751-af5e4d49a0d3",
        "colab": {}
      },
      "source": [
        "grade_submitter.submit(<email>, <token>)"
      ],
      "execution_count": 0,
      "outputs": [
        {
          "output_type": "stream",
          "text": [
            "Submitted to Coursera platform. See results on assignment page!\n"
          ],
          "name": "stdout"
        }
      ]
    }
  ]
}